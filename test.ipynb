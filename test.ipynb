{
 "cells": [
  {
   "cell_type": "markdown",
   "metadata": {},
   "source": [
    "# 1. Set Up"
   ]
  },
  {
   "cell_type": "code",
   "execution_count": 66,
   "metadata": {},
   "outputs": [],
   "source": [
    "import pandas as pd\n",
    "import re\n",
    "# nltk is to pre-process\n",
    "import nltk\n",
    "from nltk.corpus import stopwords\n",
    "from nltk.stem import WordNetLemmatizer\n",
    "from tensorflow.keras.preprocessing.text import Tokenizer\n",
    "from tensorflow.keras.preprocessing.sequence import pad_sequences\n",
    "from sklearn.feature_extraction.text import TfidfVectorizer\n",
    "import matplotlib.pyplot as plt\n",
    "import numpy as np\n",
    "from sklearn.model_selection import train_test_split\n",
    "from keras.utils import to_categorical\n",
    "import seaborn as sns\n",
    "import matplotlib.pyplot as plt\n",
    "from sklearn.metrics import confusion_matrix"
   ]
  },
  {
   "cell_type": "code",
   "execution_count": 81,
   "metadata": {},
   "outputs": [],
   "source": [
    "def plot_conf_matrix(y_true, y_pred):\n",
    "    y_pred_class = (y_pred > 0.5).astype(int).flatten()\n",
    "    \n",
    "    confMatrix = confusion_matrix(y_true, y_pred_class)\n",
    "\n",
    "    plt.figure(figsize=(8, 6))\n",
    "    sns.heatmap(confMatrix, annot=True, fmt='d', cmap='Blues', xticklabels=[0, 4], yticklabels=[0, 4])\n",
    "    plt.title('Confusion Matrix')\n",
    "    plt.xlabel('Predicted Labels')\n",
    "    plt.ylabel('True Labels')\n",
    "    plt.show"
   ]
  },
  {
   "cell_type": "markdown",
   "metadata": {},
   "source": [
    "# 2. Data Loading, Pre-processing, and Exploration"
   ]
  },
  {
   "cell_type": "code",
   "execution_count": 5,
   "metadata": {},
   "outputs": [
    {
     "data": {
      "text/html": [
       "<div>\n",
       "<style scoped>\n",
       "    .dataframe tbody tr th:only-of-type {\n",
       "        vertical-align: middle;\n",
       "    }\n",
       "\n",
       "    .dataframe tbody tr th {\n",
       "        vertical-align: top;\n",
       "    }\n",
       "\n",
       "    .dataframe thead th {\n",
       "        text-align: right;\n",
       "    }\n",
       "</style>\n",
       "<table border=\"1\" class=\"dataframe\">\n",
       "  <thead>\n",
       "    <tr style=\"text-align: right;\">\n",
       "      <th></th>\n",
       "      <th>sentiment</th>\n",
       "      <th>id</th>\n",
       "      <th>date</th>\n",
       "      <th>query</th>\n",
       "      <th>username</th>\n",
       "      <th>text</th>\n",
       "    </tr>\n",
       "  </thead>\n",
       "  <tbody>\n",
       "    <tr>\n",
       "      <th>0</th>\n",
       "      <td>0</td>\n",
       "      <td>2200003196</td>\n",
       "      <td>Tue Jun 16 18:18:12 PDT 2009</td>\n",
       "      <td>NO_QUERY</td>\n",
       "      <td>LaLaLindsey0609</td>\n",
       "      <td>@chrishasboobs AHHH I HOPE YOUR OK!!!</td>\n",
       "    </tr>\n",
       "    <tr>\n",
       "      <th>1</th>\n",
       "      <td>0</td>\n",
       "      <td>1467998485</td>\n",
       "      <td>Mon Apr 06 23:11:14 PDT 2009</td>\n",
       "      <td>NO_QUERY</td>\n",
       "      <td>sexygrneyes</td>\n",
       "      <td>@misstoriblack cool , i have no tweet apps  fo...</td>\n",
       "    </tr>\n",
       "    <tr>\n",
       "      <th>2</th>\n",
       "      <td>0</td>\n",
       "      <td>2300048954</td>\n",
       "      <td>Tue Jun 23 13:40:11 PDT 2009</td>\n",
       "      <td>NO_QUERY</td>\n",
       "      <td>sammydearr</td>\n",
       "      <td>@TiannaChaos i know  just family drama. its la...</td>\n",
       "    </tr>\n",
       "    <tr>\n",
       "      <th>3</th>\n",
       "      <td>0</td>\n",
       "      <td>1993474027</td>\n",
       "      <td>Mon Jun 01 10:26:07 PDT 2009</td>\n",
       "      <td>NO_QUERY</td>\n",
       "      <td>Lamb_Leanne</td>\n",
       "      <td>School email won't open  and I have geography ...</td>\n",
       "    </tr>\n",
       "    <tr>\n",
       "      <th>4</th>\n",
       "      <td>0</td>\n",
       "      <td>2256550904</td>\n",
       "      <td>Sat Jun 20 12:56:51 PDT 2009</td>\n",
       "      <td>NO_QUERY</td>\n",
       "      <td>yogicerdito</td>\n",
       "      <td>upper airways problem</td>\n",
       "    </tr>\n",
       "  </tbody>\n",
       "</table>\n",
       "</div>"
      ],
      "text/plain": [
       "   sentiment          id                          date     query  \\\n",
       "0          0  2200003196  Tue Jun 16 18:18:12 PDT 2009  NO_QUERY   \n",
       "1          0  1467998485  Mon Apr 06 23:11:14 PDT 2009  NO_QUERY   \n",
       "2          0  2300048954  Tue Jun 23 13:40:11 PDT 2009  NO_QUERY   \n",
       "3          0  1993474027  Mon Jun 01 10:26:07 PDT 2009  NO_QUERY   \n",
       "4          0  2256550904  Sat Jun 20 12:56:51 PDT 2009  NO_QUERY   \n",
       "\n",
       "          username                                               text  \n",
       "0  LaLaLindsey0609             @chrishasboobs AHHH I HOPE YOUR OK!!!   \n",
       "1      sexygrneyes  @misstoriblack cool , i have no tweet apps  fo...  \n",
       "2       sammydearr  @TiannaChaos i know  just family drama. its la...  \n",
       "3      Lamb_Leanne  School email won't open  and I have geography ...  \n",
       "4      yogicerdito                             upper airways problem   "
      ]
     },
     "execution_count": 5,
     "metadata": {},
     "output_type": "execute_result"
    }
   ],
   "source": [
    "# Load dataset\n",
    "data_path = 'training.300000.processed.noemoticon.csv'\n",
    "data = pd.read_csv(data_path)\n",
    "\n",
    "# Display few rows of dataset\n",
    "data.head()"
   ]
  },
  {
   "cell_type": "code",
   "execution_count": 49,
   "metadata": {},
   "outputs": [
    {
     "name": "stdout",
     "output_type": "stream",
     "text": [
      "[0 4]\n",
      "sentiment\n",
      "4    150515\n",
      "0    149485\n",
      "Name: count, dtype: int64\n"
     ]
    }
   ],
   "source": [
    "print(data['sentiment'].unique())\n",
    "print(data['sentiment'].value_counts())"
   ]
  },
  {
   "cell_type": "code",
   "execution_count": 50,
   "metadata": {},
   "outputs": [
    {
     "data": {
      "image/png": "iVBORw0KGgoAAAANSUhEUgAAAtcAAAItCAYAAADyh1YiAAAAOXRFWHRTb2Z0d2FyZQBNYXRwbG90bGliIHZlcnNpb24zLjguNCwgaHR0cHM6Ly9tYXRwbG90bGliLm9yZy8fJSN1AAAACXBIWXMAAA9hAAAPYQGoP6dpAABCmElEQVR4nO3de1jVVb7H8c8WRCA0k1EgDWVwlEEJLLfRmUyj0EmriSirCfNS5JkKylJr1MomzfHoZGDZRTGd0sBE7aap0W1qTMXMHIFjFGIqFy8cGZSr7POHD3vagYWbJZvL+/U8Pg+stX7r9936tPrsxfptLDabzSYAAAAATdbB1QUAAAAAbQXhGgAAADCEcA0AAAAYQrgGAAAADCFcAwAAAIYQrgEAAABDCNcAAACAIYRrAAAAwBDCNQDApVrT7zJrTbUCcA3CNQBIWrt2rfr376+xY8eet3uMHTtW/fv31z//+c/zMv/BgwfVv39/XX311Y0a//jjj6t///71/gwcOFBXXHGFbr/9dr366qsqKytr8PqoqCj1799f+fn5TtVbWVmpF154Qa+88so5XVdXZ01Nzc+2mfbNN9/o9ttvr3eP5rg3gNbD3dUFAABcq1+/furfv7/9+5qaGh0/flx79+7V119/rZUrV2rJkiXq16+f0fsuWbJEixYt0n//938bnfd8GTNmDDvXAH4R4RoA2rkRI0YoISGhXntZWZnmzJmjtWvXKj4+XuvWrVO3bt3s/cuXL1d1dbUuvvhip+7rbFDdsGGDJMndvXn/F3a2el1VD4CWiWMhAIAG+fj46Nlnn9XQoUNVWFiol19+2aE/MDBQwcHB6tixY7PWFRwcrODg4Ga9589pafUAcC3CNQA0wQcffKD77rtPv/vd7zRw4EBdfvnlGjNmjFauXKna2toGr6mpqdFLL72kqKgohYWF6frrr9fLL7+sysrKBsd/8803SkxM1JVXXqmBAwfq2muv1dy5c3X8+PHz+dIkSRaLRY8//rgk6a233lJ1dbW9r6Ez13XnqGNiYnTZZZdp0KBBiomJ0SuvvKKKigqHa1944QVJ0ssvv6z+/ftr0aJFkqRFixapf//+2rBhg5544gkNGjRIVqtVCxYskPTzZ5xLSko0Y8YMRUZGKiIiQnfccYfef//9euN+7vx73fn7utdd932dAQMGOHx/tnoOHTqkJ598UlFRURo4cKAiIyP1wAMP6Ouvv653z7rz79nZ2Vq/fr1uueUWhYeH64orrlBiYqK+/fbbetcAaJkI1wDgpNmzZ+uhhx7Sjh07FBISoqioKPXq1Uu7d+/WX/7yF82bN6/B6+bOnavnn39e/v7+GjZsmI4ePaqFCxdqwoQJqqqqchi7bt063XHHHdq8ebMCAgIUFRWlDh06aPny5br11lt18ODB8/46+/btq8DAQJ06dUq7d+8+6zibzaYpU6Zo0aJFOnbsmK644goNGTJEP/zwg5577jmHs9XXXXed/Qx3v379dOONNzoEVklKSkrS+vXrFRkZqYCAAPXt2/cXa7377rv17rvv6tJLL9Xll1+uf/3rX3rkkUc0f/58J1/9mR36G2+80f79DTfc4PB9Q3bv3q2bbrpJaWlpcnd3V1RUlHr37q0PP/xQd955p9LS0hq87sUXX9Rjjz2mmpoaXX311fL09NSmTZt0xx136IcffnD6NQBoPhwQAwAn/Otf/9Lrr7+uwMBApaWlOZxFfu+99/Too48qLS1NU6ZMqXdsIj8/Xy+++KKuu+46SWd2W++55x7t3LlTy5cv13333SdJ+u677/TEE0+oU6dOWrx4sa688kpJUm1trZKSkvTyyy9r6tSpevPNN8/76/31r3+tAwcOKC8vT4MHD25wzM6dO7V582YNGTJEy5Yts7/u48ePa8yYMdq6dasyMzM1ePBgTZ8+XYsWLdK+ffsUFRWlyZMn15vvwIEDevPNNxURESFJZ/1JwI+VlZXp7bffVlBQkCQpKytL48aN09KlS3Xddddp0KBB5/zaBw8erMGDB+vdd9+VJM2bN+9nz1dXVlYqISFBZWVlSkhI0AMPPCCLxSJJ+vTTT5WQkKC//OUvCgsLU2hoqMO1GRkZmj9/vm666Sb7XOPHj9dXX32lVatW6bHHHjvn+gE0L3auAcAJpaWlGjlypB5++GGHYC2d2dns0qWLysvLdezYsXrX3nTTTfZgLUkXXXSRnnnmGUnSqlWr7O1///vfVV1drQcffNAerCWpQ4cOevjhh9WvXz999dVXDR4zMK1z586SzrwROJvi4mJJkq+vr8Mbim7duumZZ57R3Llz1bNnz0bfMyIiwh6spTOv+5dMnjzZHqwlKTQ0VPfff78kNcubEEnauHGjioqKZLVa9eCDD9qDtSQNGzZM8fHxqqmp0WuvvVbv2qioKHuwlqROnTrp9ttvlyTt27fv/BcPoMkI1wDghP/6r/9ScnKyRo8ebW+rqalRbm6u1qxZY99l/ekxD0kNHikYMGCA/Pz8VFBQoEOHDkmSvvzyS0lyCNZ1LBaLhg4dKknavn1701/QL6g7a/3joPhTgwYNUseOHbVx40ZNnDhRb731lgoLCyWdeQ233HKLAgICGn3Pc/3oP4vFohtuuKFee1RUlCQpMzPznOZzVt2/x/XXX99g/6hRoxzG/diP30zU6dGjhyQ5nFkH0HJxLAQAnFRZWan169crIyND33//vQoKCuwPtdWF0IY+vu1su7cBAQEqKipScXGxevbsaQ+mMTExP1tHQUFBU15Go5w4cUKS1LVr17OOCQgI0P/8z//oySef1BdffKEvvvhCkvSb3/xG0dHRuvPOO+1BsTEuvPDCc6qxe/fu8vDwaLAu6T876+db3X3O9u98ySWXSJKOHj1ar6+h1+zm5iapccdiALge4RoAnFBcXKy4uDjl5+erS5cuCgsL0zXXXKP+/ftryJAhGjdunA4fPtzgtZ06dWqwvS6I153nPX36tCRp9OjRP3skIiQkpCkvpVFycnIkqd5Dhz81atQoXX311froo4/06aef6ssvv9S3336rb7/9VitWrNDy5ct16aWXNuqeP7dL3pCz/b3WaexHBtb9vTur7t/xbPXX9TdUz7m+ZgAtD+EaAJywcOFC5efn66abbtKcOXPq7ZiWlpae9dri4uIGj0fUhfG6vh49eujQoUN66KGH1Lt3b4PVn5tdu3appKREXbt21W9/+9tfHO/j46ObbrrJfnZ47969eu655/T5558rKSlJKSkp56XOo0ePqra2tt4bkbpP2fD397e31YXYhoJ03S69s+p258/2SS519fj6+jbpPgBaJs5cA4ATdu3aJUm655576gXr3bt3q6ysTFLDP8r/xz/+Ua8tMzNTR44c0a9//Wv96le/kiRZrVZJZz5hoiHTpk3TmDFj9NFHHzn/Qhph8eLFkqRbb731Z3d/X3vtNV1zzTVav369Q/uAAQM0depUSbIfdZHM79KWl5dr586d9do3bdokSRoyZIi9zdvbW5IafOC07t/WWXX/bh988EGD/XW/0fHH9QBoOwjXAOCEuk8I+fDDDx3a9+3bZw+Skhr8xTBLly51CHBFRUWaOXOmJGnChAn29rFjx8rNzU1JSUnaunWrwxypqal6++23lZ2d3ehjFueqtLRUTz75pD777DNdfPHFDp9T3ZBLLrlEhw8f1ksvvaQjR47Y2202m9555x1Jcqi17k1J3RsRE5566imHe+/YsUOvvvqqOnbsqLFjx9rb647SpKamOjx0umHDBmVkZDQ4d92xk3//+98/W8P111+vHj16aPv27XrppZcczt1/9tlnWrp0qdzc3HTnnXee+wsE0OJxLAQAfmTXrl363e9+d9b+MWPG6KGHHtL48eO1c+dOLVq0SB999JF69eqloqIi7d69W506dVKvXr108ODBBh9aCwkJ0V133aUhQ4bIy8tLX375pU6dOqUbbrhBt912m33cwIEDNX36dM2ePVvjx49XaGioevXqpby8PH377bdyc3PT/Pnz7Tvdztq8ebPDb1msqqrSkSNHtHfvXlVWVqpnz55asmSJ/eP4zubaa69VdHS0tmzZoujoaF122WW64IILtG/fPu3fv1/du3dXQkKCfXyfPn0kyf6pIsOHD3d4/efqV7/6lSorKzVy5EhFRkbq5MmT2r59u2w2m5566imHX0JT91s0d+3apREjRujSSy/VDz/8oKysLMXExGjdunX15u/du7f27dunu+++W0FBQfrrX/9q3wH/MS8vLyUlJem+++7T888/r/Xr1yskJERFRUXatWuX3NzcNGPGjPP2pgiAa7FzDQA/Ul1draNHj571T90u64gRI5SSkiKr1apDhw7p888/V1lZmT2YxcXFSZI+/vjjeveYN2+eJk6cqO+++06ff/65evXqpaeeekrz58+vd1QiLi5OK1euVHR0tAoLC/Xxxx/r1KlTuv7667VmzRr9/ve/b/Jr3rdvn9599137n4yMDO3fv1/h4eH685//rPfee0/BwcG/OI/FYtFzzz2nRx99VH369NFXX32lTz75RDabTXfffbfefvttXXzxxfbx1113ncaPHy9vb2999tlnDR7pOBfe3t5atWqVrr76am3fvl3ffPONrFarXnvttXq7xBdffLFSU1M1cuRIlZeX69NPP7X/lGDixIkNzj9nzhwNGDBA+/fv17Zt2372NyZedtllWrduncaMGaPKykplZGTo0KFDGjVqlFJTU3XXXXc16bUCaLkstoY+JwoAAADAOWPnGgAAADCEcA0AAAAYQrgGAAAADCFcAwAAAIYQrgEAAABDCNcAAACAIfwSmRZg165dstlsP/trhQEAAOA61dXVslgsGjRo0M+OI1y3ADabTXzcOAAAQMvV2KxGuG4B6nasw8LCXFwJAAAAGrJnz55GjePMNQAAAGAI4RoAAAAwhHANAAAAGEK4BgAAAAwhXAMAAACGEK4BAAAAQwjXAAAAgCGEawAAAMAQwjUAAABgCOEaAAAAMIRwDQAAABhCuAYAAAAMIVwDAAAAhhCuAQAAAEMI1wAAAIAhhGsAAADAEMI1AAAAYAjhGgAAADCEcA0AAAAYQrgGAAAADCFcAwDanNpam6tLAHCetPT/vt1dXQAAAKZ16GDRi29+oUPFJ1xdCgCDeva4UA/c+TtXl/GzCNcAgDbpUPEJ7T9U4uoyALQzHAtBi//xCgDn8d83ADQvdq7Bj0+BNqo1/PgUANoawjUk8eNTAAAAEzgWAgAAABhCuAYAAAAMIVwDAAAAhhCuAQAAAEMI1wAAAIAhhGsAAADAEMI1AAAAYAjhGgAAADCEcA0AAAAYQrgGAAAADCFcAwAAAIYQrgEAAABDCNcAAACAIYRrAAAAwBDCNQAAAGAI4RoAAAAwhHANAAAAGEK4BgAAAAwhXAMAAACGEK4BAAAAQ1psuF68eLHGjh171v6ZM2cqKirKoa22tlbJyckaOnSowsPDNXHiROXn5zuMyc7OVlxcnCIiIjR8+HClpKQYnwMAAADtU4sM18uXL1dycvJZ+z/88EO99dZb9doXL16s1NRUzZ49W2lpabJYLIqPj1dVVZUkqaSkRBMmTFCfPn2Unp6uhIQEJSUlKT093egcAAAAaJ9aVLguKirSvffeq6SkJAUFBTU4pri4WE888YSGDBni0F5VVaVly5YpISFBw4YNU0hIiBYuXKiioiJt2bJFkrR69Wp5eHho1qxZCg4OVmxsrMaPH68lS5YYmwMAAADtV4sK13v37tWFF16od955R+Hh4fX6bTabHn/8cf3hD3+oF65zcnJ08uRJRUZG2tu6dOmi0NBQ7dixQ5KUmZkpq9Uqd3d3+5jIyEjl5eXp2LFjRuYAAABA++X+y0OaT1RUVL1z1D+2fPlyHTlyRC+//LJeeeUVh77CwkJJUkBAgEN7jx49VFBQYB/Tr1+/ev2SdPjwYSNz+Pr6/vILbYDNZtOpU6ecurYpLBaLvLy8mv2+AJpPeXm5bDabq8toNqxrQNvninXNZrPJYrH84rgWFa5/Tk5Ojl544QWtXLlSHh4e9frLy8slqV5fp06ddOLECUlSRUVFg/2SVFlZaWQOZ1VXVys7O9vp653l5eWl0NDQZr8vgOaTl5dnX9/aA9Y1oO1z1brWUAb9qVYRrisrKzVlyhT96U9/UkhISINjPD09JZ05N133dd21dTsYnp6e9gcTf9wvSd7e3kbmcFbHjh3Vt29fp693VmPegQFo3YKCgtrdzjWAts0V61pubm6jxrWKcL179259++23euGFF/Tiiy9KOrPTW1NTo0GDBunpp59Wnz59JJ154DEwMNB+bXFxsT2Q+/v7q7i42GHuuu/9/PxUU1PT5DmcZbFYmhTOAeBsOCIBoK1xxbrW2DfurSJcX3rppdq8ebND2+uvv67Nmzfr9ddfl6+vrzw8POTj46Nt27bZg3FpaamysrIUFxcnSbJarUpNTdXp06fl5uYmSdq6dauCgoLk6+urzp07N3kOAAAAtF8t6tNCzsbT01O9e/d2+HPhhRfK3d1dvXv3lo+Pjzw8PBQXF6cFCxYoIyNDOTk5mjx5svz9/RUdHS1Jio2NVVlZmWbMmKHc3FytXbtWK1as0KRJkyTJyBwAAABov1rFznVjJSYmqqamRjNnzlRFRYWsVqtSUlLsh899fX21dOlSzZkzRzExMerevbumTZummJgYo3MAAACgfbLY2tNTLi3Unj17JElhYWEuq2F60gbtP1TisvsDMK9Pz4v07EOjXF2Gy7CuAW2PK9e1xua1VnEsBAAAAGgNCNcAAACAIYRrAAAAwBDCNQAAAGAI4RoAAAAwhHANAAAAGEK4BgAAAAwhXAMAAACGEK4BAAAAQwjXAAAAgCGEawAAAMAQwjUAAABgCOEaAAAAMIRwDQAAABhCuAYAAAAMIVwDAAAAhhCuAQAAAEMI1wAAAIAhhGsAAADAEMI1AAAAYAjhGgAAADCEcA0AAAAYQrgGAAAADCFcAwAAAIYQrgEAAABDCNcAAACAIYRrAAAAwBDCNQAAAGAI4RoAAAAwhHANAAAAGEK4BgAAAAwhXAMAAACGEK4BAAAAQwjXAAAAgCGEawAAAMAQwjUAAABgCOEaAAAAMIRwDQAAABhCuAYAAAAMIVwDAAAAhhCuAQAAAEMI1wAAAIAhhGsAAADAEMI1AAAAYAjhGgAAADCEcA0AAAAY0mLD9eLFizV27FiHto8++kixsbEaNGiQoqKiNG/ePFVUVNj7a2trlZycrKFDhyo8PFwTJ05Ufn6+wxzZ2dmKi4tTRESEhg8frpSUFId+E3MAAACgfWqR4Xr58uVKTk52aMvMzNSDDz6okSNHav369Zo1a5Y2btyop59+2j5m8eLFSk1N1ezZs5WWliaLxaL4+HhVVVVJkkpKSjRhwgT16dNH6enpSkhIUFJSktLT043OAQAAgPapRYXroqIi3XvvvUpKSlJQUJBDX2pqqiIjI3Xfffepd+/euvrqqzV58mS98847qqqqUlVVlZYtW6aEhAQNGzZMISEhWrhwoYqKirRlyxZJ0urVq+Xh4aFZs2YpODhYsbGxGj9+vJYsWSJJRuYAAABA+9WiwvXevXt14YUX6p133lF4eLhD38SJEzVt2rR619TU1KisrEw5OTk6efKkIiMj7X1dunRRaGioduzYIenM7rfVapW7u7t9TGRkpPLy8nTs2DEjcwAAAKD9cv/lIc0nKipKUVFRDfaFhoY6fF9VVaXXXntNAwYMULdu3ZSZmSlJCggIcBjXo0cPFRQUSJIKCwvVr1+/ev2SdPjwYRUWFjZ5Dl9f38a92J+w2Ww6deqUU9c2hcVikZeXV7PfF0DzKS8vl81mc3UZzYZ1DWj7XLGu2Ww2WSyWXxzXosJ1Y9XU1GjatGnKzc3VypUrJZ35S5YkDw8Ph7GdOnXSiRMnJEkVFRUN9ktSZWWlkTmcVV1drezsbKevd5aXl1e9Ny4A2pa8vDz7+tYesK4BbZ+r1rWfZsCGtLpwXVZWpocffljbtm1TcnKy/fiIp6enpDM72nVfS2cCb90Ohqenp/3BxB/3S5K3t7eROZzVsWNH9e3b1+nrndWYd2AAWregoKB2t3MNoG1zxbqWm5vbqHGtKlwXFxcrPj5eBw8e1JIlSxzORtcd5SguLlZgYKDDNSEhIZIkf39/FRcX15tTkvz8/FRTU9PkOZxlsViaFM4B4Gw4IgGgrXHFutbYN+4t6oHGn3PixAmNGzdOx48f16pVqxyCtSSFhITIx8dH27Zts7eVlpYqKytLgwcPliRZrVbt3LlTp0+fto/ZunWrgoKC5Ovra2QOAAAAtF+tJlzPnTtXP/zwg+bPn69u3brpyJEj9j+nT5+Wh4eH4uLitGDBAmVkZCgnJ0eTJ0+Wv7+/oqOjJUmxsbEqKyvTjBkzlJubq7Vr12rFihWaNGmSJBmZAwAAAO1XqzgWUltbqw0bNqi6ulrjxo2r15+RkaFevXopMTFRNTU1mjlzpioqKmS1WpWSkmI/fO7r66ulS5dqzpw5iomJUffu3TVt2jTFxMTY5zIxBwAAANoni609PeXSQu3Zs0eSFBYW5rIapidt0P5DJS67PwDz+vS8SM8+NMrVZbgM6xrQ9rhyXWtsXms1x0IAAACAlo5wDQAAABhCuAYAAAAMIVwDAAAAhhCuAQAAAEMI1wAAAIAhhGsAAADAEMI1AAAAYAjhGgAAADCEcA0AAAAYQrgGAAAADCFcAwAAAIYQrgEAAABDCNcAAACAIYRrAAAAwBDCNQAAAGAI4RoAAAAwhHANAAAAGEK4BgAAAAwhXAMAAACGEK4BAAAAQwjXAAAAgCGEawAAAMAQwjUAAABgCOEaAAAAMIRwDQAAABhCuAYAAAAMIVwDAAAAhhCuAQAAAEMI1wAAAIAhhGsAAADAEMI1AAAAYAjhGgAAADCEcA0AAAAYQrgGAAAADCFcAwAAAIYQrgEAAABDCNcAAACAIYRrAAAAwBDCNQAAAGAI4RoAAAAwhHANAAAAGEK4BgAAAAwhXAMAAACGEK4BAAAAQwjXAAAAgCGEawAAAMCQFhuuFy9erLFjxzq0ZWdnKy4uThERERo+fLhSUlIc+mtra5WcnKyhQ4cqPDxcEydOVH5+frPPAQAAgPapRYbr5cuXKzk52aGtpKREEyZMUJ8+fZSenq6EhAQlJSUpPT3dPmbx4sVKTU3V7NmzlZaWJovFovj4eFVVVTXrHAAAAGif3F1dwI8VFRVpxowZ2rlzp4KCghz6Vq9eLQ8PD82aNUvu7u4KDg5Wfn6+lixZotjYWFVVVWnZsmWaOnWqhg0bJklauHChhg4dqi1btmj06NHNMgcAAADarxa1c713715deOGFeueddxQeHu7Ql5mZKavVKnf3/7wfiIyMVF5eno4dO6acnBydPHlSkZGR9v4uXbooNDRUO3bsaLY5AAAA0H61qJ3rqKgoRUVFNdhXWFiofv36ObT16NFDknT48GEVFhZKkgICAuqNKSgoaLY5fH19G/FK67PZbDp16pRT1zaFxWKRl5dXs98XQPMpLy+XzWZzdRnNhnUNaPtcsa7ZbDZZLJZfHNeiwvXPqaiokIeHh0Nbp06dJEmVlZUqLy+XpAbHnDhxotnmcFZ1dbWys7Odvt5ZXl5eCg0Nbfb7Amg+eXl59vWtPWBdA9o+V61rP82ADWk14drT09P+UGGdujDr7e0tT09PSVJVVZX967oxdTsYzTGHszp27Ki+ffs6fb2zGvMODEDrFhQU1O52rgG0ba5Y13Jzcxs1rtWEa39/fxUXFzu01X3v5+enmpoae1tgYKDDmJCQkGabw1kWi6VJ4RwAzoYjEgDaGlesa419496iHmj8OVarVTt37tTp06ftbVu3blVQUJB8fX0VEhIiHx8fbdu2zd5fWlqqrKwsDR48uNnmAAAAQPvVasJ1bGysysrKNGPGDOXm5mrt2rVasWKFJk2aJOnMGZi4uDgtWLBAGRkZysnJ0eTJk+Xv76/o6OhmmwMAAADtV6s5FuLr66ulS5dqzpw5iomJUffu3TVt2jTFxMTYxyQmJqqmpkYzZ85URUWFrFarUlJS7IfPm2sOAAAAtE8WW3t6yqWF2rNnjyQpLCzMZTVMT9qg/YdKXHZ/AOb16XmRnn1olKvLcBnWNaDtceW61ti81mqOhQAAAAAtHeEaAAAAMIRwDQAAABhCuAYAAAAMIVwDAAAAhhCuAQAAAEMI1wAAAIAhhGsAAADAEMI1AAAAYAjhGgAAADCEcA0AAAAYQrgGAAAADCFcAwAAAIYQrgEAAABDCNcAAACAIYRrAAAAwBDCNQAAAGAI4RoAAAAwhHANAAAAGEK4BgAAAAwhXAMAAACGEK4BAAAAQwjXAAAAgCGEawAAAMAQwjUAAABgCOEaAAAAMIRwDQAAABhCuAYAAAAMIVwDAAAAhhCuAQAAAEOcDtd//vOftXv37rP2b926Vffcc4+z0wMAAACtjtPhet26dfrhhx/O2r99+3Zt377d2ekBAACAVse9sQMPHDig0aNHq6amxt42depUTZ069azX/OY3v2ladQAAAEAr0uhwHRgYqMTERH322WeSpMzMTAUFBcnX17feWDc3N/n6+io+Pt5cpQAAAEAL1+hwLUnx8fH2wBwSEqI//elPuvHGG89LYQAAAEBrc07h+sdycnJM1gEAAAC0ek6H6zoHDhzQkSNHVFtb22C/1Wpt6i0AAACAVsHpcH306FFNnjxZmZmZPzsuOzvb2VsAAAAArYrT4fpvf/ubduzYoSuvvFJhYWHy8PAwWRcAAADQ6jgdrj/55BONHj1af/vb30zWAwAAALRaTv8SmVOnTikyMtJkLQAAAECr5nS47tu3r/Ly8kzWAgAAALRqTofrSZMmKS0tTXv27DFZDwAAANBqOX3mevv27eratavGjBmj3r17q3v37rJYLA5jLBaLVqxY0eQiAQAAgNbA6XD9xhtv2L/ev3+/9u/fX2/MT8M2AAAA0JbxGxoBAAAAQ5w+c+0q1dXVWrhwoYYPH65Bgwbpj3/8o7766it7f3Z2tuLi4hQREaHhw4crJSXF4fra2lolJydr6NChCg8P18SJE5Wfn+8wxsQcAAAAaH+c3rlev359o8bdfPPNzt6iQS+99JLS09P117/+VZdccomWLFmi+Ph4bdiwQR4eHpowYYKuu+46Pf300/r666/19NNPq2vXroqNjZUkLV68WKmpqZo7d678/Pw0f/58xcfH67333pOHh4dKSkqaPAcAAADaJ6fD9eOPP96oM9Wmw3VGRoZuuOEGXXXVVfY63nrrLX399dfav3+/PDw8NGvWLLm7uys4OFj5+flasmSJYmNjVVVVpWXLlmnq1KkaNmyYJGnhwoUaOnSotmzZotGjR2v16tVNngMAAADtk9Pheu7cufXaampqdPToUW3YsEE2m03PPvtsk4prSNeuXfXxxx8rLi5OAQEBSktLk4eHh377299qzZo1slqtcnf/z8uKjIzUK6+8omPHjunQoUM6efKkwy+/6dKli0JDQ7Vjxw6NHj1amZmZTZ4DAAAA7ZPT4TomJuasfffcc49uvfVWffLJJ7r00kudvUWDZsyYocmTJ+vaa6+Vm5ubOnTooKSkJAUGBqqwsFD9+vVzGN+jRw9J0uHDh1VYWChJCggIqDemoKBAkozM4QybzaZTp045fb2zLBaLvLy8mv2+AJpPeXm5bDabq8toNqxrQNvninXNZrM16tSG0+H653h4eOiWW27R3//+dyUmJhqd+7vvvlOXLl304osvys/PT2+99ZYee+wxvfHGG6qoqKh35rlTp06SpMrKSpWXl9vr++mYEydOSJKROZxRXV2t7Oxsp693lpeXl0JDQ5v9vgCaT15enn3tag9Y14C2z1XrWmOerTsv4VqS3NzcdPToUaNzHjp0SFOnTtXy5cs1ePBgSVJYWJhyc3O1aNEieXp6qqqqyuGayspKSZK3t7c8PT0lSVVVVfav68bU7XKYmMMZHTt2VN++fZ2+3ll8FjnQ9gUFBbW7nWsAbZsr1rXc3NxGjTsv4bqgoECrVq3SJZdcYnTeb775RtXV1QoLC3NoDw8P12effaaLL75YxcXFDn113/v5+ammpsbeFhgY6DAmJCREkuTv79/kOZxhsVjk7e3t9PUAcDYckQDQ1rhiXWvsG3enw/W1117bYHtlZaWOHz+u2tpaPfHEE85O36C6c87/+7//63CWe9++ferdu7ciIiKUmpqq06dPy83NTZK0detWBQUFydfXV507d5aPj4+2bdtmD8alpaXKyspSXFycJMlqtTZ5DgAAALRPTv8SGZvN1uAfb29vXXbZZZo7d67uuusuk7Xq0ksv1eDBg/XYY4/pyy+/1P79+/X8889r69atuu+++xQbG6uysjLNmDFDubm5Wrt2rVasWKFJkyZJOnNOJi4uTgsWLFBGRoZycnI0efJk+fv7Kzo6WpKMzAEAAID2yemd648++shkHY3SoUMHLV68WM8//7z+/Oc/68SJE+rXr5+WL1+uiIgISdLSpUs1Z84cxcTEqHv37po2bZrDJ5skJiaqpqZGM2fOVEVFhaxWq1JSUuwH1H19fZs8BwAAANoni83AaXCbzaaSkhJ5eHjIx8fHRF3typ49eySp3lny5jQ9aYP2Hypx2f0BmNen50V69qFRri7DZVjXgLbHletaY/Nakx5oLCkp0fz587V582adPHlSkuTj46ORI0fqkUceUbdu3ZoyPQAAANCqOB2uS0tLdccddyg/P1+9e/fWFVdcodOnT+v777/XmjVrtG3bNq1bt46dbAAAALQbTofrl156SQcOHNAzzzyj2267zaFvzZo1euKJJ/TKK6/o0UcfbXKRAAAAQGvg9KeFbNmyRX/4wx/qBWtJuvXWW3XzzTdr8+bNTSoOAAAAaE2cDteFhYX2T+hoSHh4uAoKCpydHgAAAGh1nA7XF154oQ4fPnzW/oMHD3LeGgAAAO2K0+H6iiuu0KpVq5SXl1ev77vvvtObb76pIUOGNKk4AAAAoDVx+oHGBx54QB999JFuvvlm/eEPf1BwcLAsFou+/fZbvfPOO7JYLLr//vtN1goAAAC0aE6H6+DgYC1dulTTp0/X6tWrHfouueQSzZ49W/369WtygQAAAEBr0aRfIjN48GBt2rRJWVlZOnDggGw2mwIDAxUaGqoOHZw+cQIAAAC0Sk0K15JksVg0YMAADRgwQEePHlXXrl0J1gAAAGiXzjkFr1mzRjfffLNqa2vr9c2bN0/Dhg1TamqqkeIAAACA1uScwvX8+fM1c+ZM5ebmav/+/fX63d3ddeLECT399NOaPXu2qRoBAACAVqHR4frjjz9WSkqKhgwZog8++EC//vWv642ZO3eutmzZorCwMK1cuVJffPGF0WIBAACAlqzR4XrVqlXq2bOnUlJS1KtXr7OOCwgIUEpKii666CK98cYbRooEAAAAWoNGh+s9e/YoJiZGHTt2/MWxnTt31s0336zdu3c3qTgAAACgNWl0uD558qT8/PwaPXFQUJD+/e9/O1UUAAAA0Bo1Olx3795dR44cafTEx48fl6+vr1NFAQAAAK1Ro8P1wIEDlZGR0eiJN2/erD59+jhTEwAAANAqNTpcx8TEaO/evVq+fPkvjl2+fLmysrIUExPTlNoAAACAVqXRv6Hxmmuu0YgRIzRv3jzt3r1bcXFxCg8Pl7v7mSmqq6u1a9curVy5Ups3b5bVatXo0aPPW+EAAABAS3NOv/587ty56tChgzZu3KgPPvhAbm5u6tq1q06fPq3S0lLV1tbKZrMpOjpazz77rD14AwAAAO3BOaXfCy64QM8//7w+//xzrV+/Xnv27FFxcbHc3NzUp08fWa1W3XDDDRo8ePD5qhcAAABosZzaWr7qqqt01VVXma4FAAAAaNUa/UAjAAAAgJ9HuAYAAAAMIVwDAAAAhhCuAQAAAEMI1wAAAIAhhGsAAADAEMI1AAAAYAjhGgAAADCEcA0AAAAYQrgGAAAADCFcAwAAAIYQrgEAAABDCNcAAACAIYRrAAAAwBDCNQAAAGAI4RoAAAAwhHANAAAAGEK4BgAAAAwhXAMAAACGEK4BAAAAQwjXAAAAgCGEawAAAMCQVhmu169fr1GjRiksLEyjR4/Wxo0b7X3Z2dmKi4tTRESEhg8frpSUFIdra2trlZycrKFDhyo8PFwTJ05Ufn6+wxgTcwAAAKD9aXXh+u2339b06dN1++2367333tOoUaP0yCOPaNeuXSopKdGECRPUp08fpaenKyEhQUlJSUpPT7dfv3jxYqWmpmr27NlKS0uTxWJRfHy8qqqqJMnIHAAAAGif3F1dwLmw2WxKSkrSuHHjNG7cOEnSAw88oK+++krbt2/X9u3b5eHhoVmzZsnd3V3BwcHKz8/XkiVLFBsbq6qqKi1btkxTp07VsGHDJEkLFy7U0KFDtWXLFo0ePVqrV69u8hwAAABon1rVzvX333+vQ4cO6cYbb3RoT0lJ0aRJk5SZmSmr1Sp39/+8Z4iMjFReXp6OHTumnJwcnTx5UpGRkfb+Ll26KDQ0VDt27JAkI3MAAACgfWpV4Xr//v2SpFOnTumee+7RlVdeqdtuu00fffSRJKmwsFD+/v4O1/To0UOSdPjwYRUWFkqSAgIC6o0pKCgwNgcAAADap1Z1LKSsrEyS9Nhjj+nBBx/UlClTtGnTJt1///167bXXVFFRIQ8PD4drOnXqJEmqrKxUeXm5JDU45sSJE5JkZA5n2Gw2nTp1yunrnWWxWOTl5dXs9wXQfMrLy2Wz2VxdRrNhXQPaPlesazabTRaL5RfHtapw3bFjR0nSPffco5iYGEnSb3/7W2VlZem1116Tp6dnvYcKKysrJUne3t7y9PSUJFVVVdm/rhtTtxCbmMMZ1dXVys7Odvp6Z3l5eSk0NLTZ7wug+eTl5dk3BtoD1jWg7XPVuvbTzdWGtKpwXXdco1+/fg7tffv21SeffKKePXuquLjYoa/uez8/P9XU1NjbAgMDHcaEhITY79HUOZzRsWNH9e3b1+nrndWYd2AAWregoKB2t3MNoG1zxbqWm5vbqHGtKlyHhobqggsu0O7duzV48GB7+759+xQYGKjLLrtMqampOn36tNzc3CRJW7duVVBQkHx9fdW5c2f5+Pho27Zt9mBcWlqqrKwsxcXFSZKsVmuT53CGxWKRt7e309cDwNlwRAJAW+OKda2xb9xb1QONnp6euvfee/Xiiy/qvffe04EDB/TSSy/piy++0IQJExQbG6uysjLNmDFDubm5Wrt2rVasWKFJkyZJOrOVHxcXpwULFigjI0M5OTmaPHmy/P39FR0dLUlG5gAAAED71Kp2riXp/vvvl5eXlxYuXKiioiIFBwdr0aJFuuKKKyRJS5cu1Zw5cxQTE6Pu3btr2rRp9vPZkpSYmKiamhrNnDlTFRUVslqtSklJsZ+h8fX1bfIcAAAAaJ8stvZ0EK+F2rNnjyQpLCzMZTVMT9qg/YdKXHZ/AOb16XmRnn1olKvLcBnWNaDtceW61ti81qqOhQAAAAAtGeEaAAAAMIRwDQAAABhCuAYAAAAMIVwDAAAAhhCuAQAAAEMI1wAAAIAhhGsAAADAEMI1AAAAYAjhGgAAADCEcA0AAAAYQrgGAAAADCFcAwAAAIYQrgEAAABDCNcAAACAIYRrAAAAwBDCNQAAAGAI4RoAAAAwhHANAAAAGEK4BgAAAAwhXAMAAACGEK4BAAAAQwjXAAAAgCGEawAAAMAQwjUAAABgCOEaAAAAMIRwDQAAABhCuAYAAAAMIVwDAAAAhhCuAQAAAEMI1wAAAIAhhGsAAADAEMI1AAAAYAjhGgAAADCEcA0AAAAYQrgGAAAADCFcAwAAAIYQrgEAAABDCNcAAACAIYRrAAAAwBDCNQAAAGAI4RoAAAAwhHANAAAAGEK4BgAAAAwhXAMAAACGEK4BAAAAQwjXAAAAgCGtNlzn5eVp0KBBWrt2rb0tOztbcXFxioiI0PDhw5WSkuJwTW1trZKTkzV06FCFh4dr4sSJys/PdxhjYg4AAAC0T60yXFdXV2vKlCk6deqUva2kpEQTJkxQnz59lJ6eroSEBCUlJSk9Pd0+ZvHixUpNTdXs2bOVlpYmi8Wi+Ph4VVVVGZsDAAAA7VerDNeLFi3SBRdc4NC2evVqeXh4aNasWQoODlZsbKzGjx+vJUuWSJKqqqq0bNkyJSQkaNiwYQoJCdHChQtVVFSkLVu2GJsDAAAA7VerC9c7duxQWlqa5s2b59CemZkpq9Uqd3d3e1tkZKTy8vJ07Ngx5eTk6OTJk4qMjLT3d+nSRaGhodqxY4exOQAAANB+uf/ykJajtLRU06ZN08yZMxUQEODQV1hYqH79+jm09ejRQ5J0+PBhFRYWSlK963r06KGCggJjczjLZrM5HHNpLhaLRV5eXs1+XwDNp7y8XDabzdVlNBvWNaDtc8W6ZrPZZLFYfnFcqwrXs2bNUkREhG688cZ6fRUVFfLw8HBo69SpkySpsrJS5eXlktTgmBMnThibw1nV1dXKzs5u0hzO8PLyUmhoaLPfF0DzycvLs69f7QHrGtD2uWpd+2kGbEirCdfr169XZmam3n333Qb7PT096z1UWFlZKUny9vaWp6enpDPnpuu+rhtTt8NhYg5ndezYUX379m3SHM5ozDswAK1bUFBQu9u5BtC2uWJdy83NbdS4VhOu09PTdezYMQ0fPtyh/amnnlJKSoouvvhiFRcXO/TVfe/n56eamhp7W2BgoMOYkJAQSZK/v3+T53CWxWKRt7d3k+YAgIZwRAJAW+OKda2xb9xbTbhesGCBKioqHNpGjBihxMREjRo1Su+//75SU1N1+vRpubm5SZK2bt2qoKAg+fr6qnPnzvLx8dG2bdvswbi0tFRZWVmKi4uTJFmt1ibPAQAAgPar1XxaiJ+fn3r37u3wR5J8fX3Vs2dPxcbGqqysTDNmzFBubq7Wrl2rFStWaNKkSZLOnJGJi4vTggULlJGRoZycHE2ePFn+/v6Kjo6WJCNzAAAAoP1qNTvXv8TX11dLly7VnDlzFBMTo+7du2vatGmKiYmxj0lMTFRNTY1mzpypiooKWa1WpaSk2A+nm5gDAAAA7ZfF1p6ecmmh9uzZI0kKCwtzWQ3TkzZo/6ESl90fgHl9el6kZx8a5eoyXIZ1DWh7XLmuNTavtZpjIQAAAEBLR7gGAAAADCFcAwAAAIYQrgEAAABDCNcAAACAIYRrAAAAwBDCNQAAAGAI4RoAAAAwhHANAAAAGEK4BgAAAAwhXAMAAACGEK4BAAAAQwjXAAAAgCGEawAAAMAQwjUAAABgCOEaAAAAMIRwDQAAABhCuAYAAAAMIVwDAAAAhhCuAQAAAEMI1wAAAIAhhGsAAADAEMI1AAAAYAjhGgAAADCEcA0AAAAYQrgGAAAADCFcAwAAAIYQrgEAAABDCNcAAACAIYRrAAAAwBDCNQAAAGAI4RoAAAAwhHANAAAAGEK4BgAAAAwhXAMAAACGEK4BAAAAQwjXAAAAgCGEawAAAMAQwjUAAABgCOEaAAAAMIRwDQAAABhCuAYAAAAMIVwDAAAAhhCuAQAAAEMI1wAAAIAhhGsAAADAkFYVrv/v//5PTz75pK6++mpddtlluvPOO5WZmWnvz87OVlxcnCIiIjR8+HClpKQ4XF9bW6vk5GQNHTpU4eHhmjhxovLz8x3GmJgDAAAA7VOrCtePPPKIdu/ereeee05r1qzRgAEDdM899+i7775TSUmJJkyYoD59+ig9PV0JCQlKSkpSenq6/frFixcrNTVVs2fPVlpamiwWi+Lj41VVVSVJRuYAAABA++Xu6gIaKz8/X1988YXefPNNXXbZZZKkGTNm6LPPPtN7770nT09PeXh4aNasWXJ3d1dwcLDy8/O1ZMkSxcbGqqqqSsuWLdPUqVM1bNgwSdLChQs1dOhQbdmyRaNHj9bq1aubPAcAAADar1azc33RRRfp1Vdf1cCBA+1tFotFNptNJ06cUGZmpqxWq9zd//N+ITIyUnl5eTp27JhycnJ08uRJRUZG2vu7dOmi0NBQ7dixQ5KMzAEAAID2q9WE6y5dumjYsGHy8PCwt23cuFEHDhzQVVddpcLCQvn7+ztc06NHD0nS4cOHVVhYKEkKCAioN6agoECSjMwBAACA9qvVHAv5qZ07d2r69Om69tprFRUVpblz5zoEb0nq1KmTJKmyslLl5eWS1OCYEydOSJIqKiqaPIezbDabTp061aQ5nGGxWOTl5dXs9wXQfMrLy2Wz2VxdRrNhXQPaPlesazabTRaL5RfHtcpw/eGHH2rKlCkKDw/Xc889J0ny9PSs91BhZWWlJMnb21uenp6SpKqqKvvXdWPqFmETczirurpa2dnZTZrDGV5eXgoNDW32+wJoPnl5efbNgfaAdQ1o+1y1rv10g7UhrS5cv/HGG5ozZ46io6O1YMEC+4v09/dXcXGxw9i67/38/FRTU2NvCwwMdBgTEhJibA5ndezYUX379m3SHM5ozDswAK1bUFBQu9u5BtC2uWJdy83NbdS4VhWuV61apWeeeUZjx47V9OnT1aHDf46MW61Wpaam6vTp03Jzc5Mkbd26VUFBQfL19VXnzp3l4+Ojbdu22YNxaWmpsrKyFBcXZ2wOZ1ksFnl7ezdpDgBoCEckALQ1rljXGvvGvdU80JiXl6dnn31W0dHRmjRpko4dO6YjR47oyJEj+ve//63Y2FiVlZVpxowZys3N1dq1a7VixQpNmjRJ0plt/Li4OC1YsEAZGRnKycnR5MmT5e/vr+joaEkyMgcAAADar1azc71p0yZVV1dry5Yt2rJli0NfTEyM/vrXv2rp0qWaM2eOYmJi1L17d02bNk0xMTH2cYmJiaqpqdHMmTNVUVEhq9WqlJQU+9ESX1/fJs8BAACA9stia08H8VqoPXv2SJLCwsJcVsP0pA3af6jEZfcHYF6fnhfp2YdGuboMl2FdA9oeV65rjc1rreZYCAAAANDSEa4BAAAAQwjXAAAAgCGEawAAAMAQwjUAAABgCOEaAAAAMIRwDQAAABhCuAYAAAAMIVwDAAAAhhCuAQAAAEMI1wAAAIAhhGsAAADAEMI1AAAAYAjhGgAAADCEcA0AAAAYQrgGAAAADCFcAwAAAIYQrgEAAABDCNcAAACAIYRrAAAAwBDCNQAAAGAI4RoAAAAwhHANAAAAGEK4BgAAAAwhXAMAAACGEK4BAAAAQwjXAAAAgCGEawAAAMAQwjUAAABgCOEaAAAAMIRwDQAAABhCuAYAAAAMIVwDAAAAhhCuAQAAAEMI1wAAAIAhhGsAAADAEMI1AAAAYAjhGgAAADCEcA0AAAAYQrgGAAAADCFcAwAAAIYQrgEAAABDCNcAAACAIYRrAAAAwBDCNQAAAGAI4RoAAAAwhHANAAAAGEK4dlJtba2Sk5M1dOhQhYeHa+LEicrPz3d1WQAAAHAhwrWTFi9erNTUVM2ePVtpaWmyWCyKj49XVVWVq0sDAACAixCunVBVVaVly5YpISFBw4YNU0hIiBYuXKiioiJt2bLF1eUBAADARQjXTsjJydHJkycVGRlpb+vSpYtCQ0O1Y8cOF1YGAAAAV3J3dQGtUWFhoSQpICDAob1Hjx4qKCg45/mqq6tls9n0zTffGKnvXFksFo0e0l2na31dcn8A54dbhw7as2ePbDabq0tpdqxrQNvkynWturpaFovlF8cRrp1QXl4uSfLw8HBo79Spk06cOHHO89X9QzXmH+x86eLj6bJ7Azi/XLm2uBLrGtB2uWJds1gshOvzxdPzzIJdVVVl/1qSKisr5eXldc7zDRo0yFhtAAAAcB3OXDuh7jhIcXGxQ3txcbH8/f1dURIAAABaAMK1E0JCQuTj46Nt27bZ20pLS5WVlaXBgwe7sDIAAAC4EsdCnODh4aG4uDgtWLBA3bp1U8+ePTV//nz5+/srOjra1eUBAADARQjXTkpMTFRNTY1mzpypiooKWa1WpaSk1HvIEQAAAO2HxdYeP6MJAAAAOA84cw0AAAAYQrgGAAAADCFcAwAAAIYQrgEAAABDCNcAAACAIYRrAAAAwBDCNQAAAGAI4RpoB2pra5WcnKyhQ4cqPDxcEydOVH5+vqvLAgAj8vLyNGjQIK1du9bVpQCEa6A9WLx4sVJTUzV79mylpaXJYrEoPj5eVVVVri4NAJqkurpaU6ZM0alTp1xdCiCJcA20eVVVVVq2bJkSEhI0bNgwhYSEaOHChSoqKtKWLVtcXR4ANMmiRYt0wQUXuLoMwI5wDbRxOTk5OnnypCIjI+1tXbp0UWhoqHbs2OHCygCgaXbs2KG0tDTNmzfP1aUAdoRroI0rLCyUJAUEBDi09+jRQwUFBa4oCQCarLS0VNOmTdPMmTPrrW+AKxGugTauvLxckuTh4eHQ3qlTJ1VWVrqiJABoslmzZikiIkI33nijq0sBHLi7ugAA55enp6ekM2ev676WpMrKSnl5ebmqLABw2vr165WZmal3333X1aUA9bBzDbRxdT8uLS4udmgvLi6Wv7+/K0oCgCZJT0/XsWPHNHz4cA0aNEiDBg2SJD311FMaPXq0i6tDe8fONdDGhYSEyMfHR9u2bVNgYKCkM2cVs7KyFBcX5+LqAODcLViwQBUVFQ5tI0aMUGJiokaNGuWiqoAzCNdAG+fh4aG4uDgtWLBA3bp1U8+ePTV//nz5+/srOjra1eUBwDnz8/NrsN3X11c9e/Zs5moAR4RroB1ITExUTU2NZs6cqYqKClmtVqWkpNR7yBEAADSNxWaz2VxdBAAAANAW8EAjAAAAYAjhGgAAADCEcA0AAAAYQrgGAAAADCFcAwAAAIYQrgEAAABDCNcAAACAIYRrAGgnHn/8cfXv31/btm0zMt/BgwfVv39/Pf7440bmq7No0SKjdQJAcyJcAwAAAIYQrgEAAABDCNcAAACAIe6uLgAA0LLYbDatWbNG69at0759+1ReXq6LLrpIQ4YM0UMPPaTevXvXu2b58uV6/fXXVVxcrN69e+uOO+7QXXfdJYvFYh9TW1urlStXas2aNcrLy5OHh4ciIiL0pz/9SZdffvnP1pSVlaXk5GTt3btXJSUl8vPz0zXXXKMHH3xQXbt2Nf1XAABOI1wDABzMnTtXK1as0HXXXafJkydLkjIzM7VhwwZlZWVpw4YN6tDhPz/43LRpkzZt2qS4uDh1795d7733np555hkdPHjQ4WHHKVOm6P3339fIkSM1ZswYnThxQmvXrtXYsWP13HPP6fe//32D9fzwww8aN26cunfvrvHjx6tLly7avXu33njjDX3zzTdKS0tzCPEA4EqEawCAXUlJiVauXKlrrrlGL774or39rrvuUm1trT744ANlZ2drwIAB9r6KigqlpqYqPDxcknTnnXfqrrvu0vLly3XnnXeqd+/e2rhxo95//31NnTpV9957r/3acePG6dZbb9WsWbM0bNgweXl51atp8+bNKi0tVUpKii699FJJ0m233SYfHx9t375dxcXF8vPzO19/JQBwTjhzDQCwu+iii5SZmakFCxY4tJeWltqD76lTpxz6rr76anuwlqSOHTtqwoQJstls+vDDDyVJ77//viRp5MiROn78uP1PZWWlRowYoZKSEu3YsaPBmgICAiRJ8+fP19atW1VVVSXpzEcLrl27lmANoEVh5xoA4KBTp07KyMjQxx9/rAMHDujgwYMqKCiwH72ora11GB8cHFxvjqCgIElSfn6+JCkvL0+SdN111531vocOHWqwfeTIkYqNjdXatWs1fvx4eXp66vLLL9ewYcN0880368ILLzz3FwkA5wnhGgBgV11drQcffFCffPKJBg4cqIEDB2rkyJEKDQ3Vp59+qldeeaXeNT8+f12nLoC7u5/538zp06d1wQUX6IUXXjjrvesC+U+5ubnp2Wef1f3336+PP/5Y//znP5WZmakvvvhCr7zyilJTUxUYGOjMywUA4wjXAAC7DRs26JNPPtF9992nRx991KFv3bp1DV5z4MCBem3ff/+9JKlPnz6SpF69eikvL08hISHq1q2bw9js7GwVFxc3eN5aOrOjfeDAAV155ZUaO3asxo4dq5qaGqWkpOi5557Tm2++qccee+xcXyoAnBecuQYA2JWUlEiS+vfv79Cen5+vTZs2STqzC/1jn376qUPArqqq0tKlS+Xu7q7o6GhJZ452SNLzzz/vcG1ZWZkefvhhPfDAA6qsrGywppdfflnjx4/X7t277W3u7u72c95ubm7n+jIB4Lxh5xoA2pnXXnvN/oDhT40bN05/+9vfNGfOHB04cEDdu3fXt99+q/T0dNXU1Eg683Djj3l7e+uPf/yj7r77bnl4eGj9+vXKzs7WY489Zn8Y8ZZbbtEHH3ygtLQ0HThwQFFRUaqpqdFbb72l/fv3a+rUqWd9MHH8+PHauHGj7rvvPt1xxx3q1auXioqK9Oabb6pz584aM2aMwb8dAGgawjUAtDMff/zxWfumTJmiV199VcnJyUpJSZF05tM64uLi9Pvf/14333yz/vGPfzh8JvWYMWPk5eWllStX6vjx4+rbt68WLlyoUaNG2ce4ubnp5Zdf1ooVK/T2229rwYIF8vLyUnBwsBYtWqQRI0actabg4GC98cYbeumll7R+/XodO3ZMXbt2VWRkpB544AHOWwNoUSw2m83m6iIAAACAtoAz1wAAAIAhhGsAAADAEMI1AAAAYAjhGgAAADCEcA0AAAAYQrgGAAAADCFcAwAAAIYQrgEAAABDCNcAAACAIYRrAAAAwBDCNQAAAGAI4RoAAAAwhHANAAAAGPL/646HyIrIMuoAAAAASUVORK5CYII=",
      "text/plain": [
       "<Figure size 800x600 with 1 Axes>"
      ]
     },
     "metadata": {},
     "output_type": "display_data"
    }
   ],
   "source": [
    "# Plot distribution of labels\n",
    "number_of_labels = data['sentiment'].value_counts().reset_index()\n",
    "number_of_labels.columns = ['sentiment', 'number_of_labels']\n",
    "sns.set(style='whitegrid')\n",
    "\n",
    "plt.figure(figsize=(8, 6))\n",
    "sns.barplot(x='sentiment', y='number_of_labels', data=number_of_labels)\n",
    "\n",
    "plt.title('Label Distribution', fontsize=16)\n",
    "plt.xlabel('Labels', fontsize=14)\n",
    "plt.ylabel('Count', fontsize=14)\n",
    "plt.show()"
   ]
  },
  {
   "cell_type": "code",
   "execution_count": 6,
   "metadata": {},
   "outputs": [
    {
     "data": {
      "text/html": [
       "<div>\n",
       "<style scoped>\n",
       "    .dataframe tbody tr th:only-of-type {\n",
       "        vertical-align: middle;\n",
       "    }\n",
       "\n",
       "    .dataframe tbody tr th {\n",
       "        vertical-align: top;\n",
       "    }\n",
       "\n",
       "    .dataframe thead th {\n",
       "        text-align: right;\n",
       "    }\n",
       "</style>\n",
       "<table border=\"1\" class=\"dataframe\">\n",
       "  <thead>\n",
       "    <tr style=\"text-align: right;\">\n",
       "      <th></th>\n",
       "      <th>sentiment</th>\n",
       "      <th>text</th>\n",
       "    </tr>\n",
       "  </thead>\n",
       "  <tbody>\n",
       "    <tr>\n",
       "      <th>0</th>\n",
       "      <td>0</td>\n",
       "      <td>@chrishasboobs AHHH I HOPE YOUR OK!!!</td>\n",
       "    </tr>\n",
       "    <tr>\n",
       "      <th>1</th>\n",
       "      <td>0</td>\n",
       "      <td>@misstoriblack cool , i have no tweet apps  fo...</td>\n",
       "    </tr>\n",
       "    <tr>\n",
       "      <th>2</th>\n",
       "      <td>0</td>\n",
       "      <td>@TiannaChaos i know  just family drama. its la...</td>\n",
       "    </tr>\n",
       "    <tr>\n",
       "      <th>3</th>\n",
       "      <td>0</td>\n",
       "      <td>School email won't open  and I have geography ...</td>\n",
       "    </tr>\n",
       "    <tr>\n",
       "      <th>4</th>\n",
       "      <td>0</td>\n",
       "      <td>upper airways problem</td>\n",
       "    </tr>\n",
       "  </tbody>\n",
       "</table>\n",
       "</div>"
      ],
      "text/plain": [
       "   sentiment                                               text\n",
       "0          0             @chrishasboobs AHHH I HOPE YOUR OK!!! \n",
       "1          0  @misstoriblack cool , i have no tweet apps  fo...\n",
       "2          0  @TiannaChaos i know  just family drama. its la...\n",
       "3          0  School email won't open  and I have geography ...\n",
       "4          0                             upper airways problem "
      ]
     },
     "execution_count": 6,
     "metadata": {},
     "output_type": "execute_result"
    }
   ],
   "source": [
    "# Drop unnecessary columns\n",
    "data_clean = data.drop(columns=['id', 'date', 'query', 'username'])\n",
    "# Replace 4 to 1 in the label\n",
    "data_clean['sentiment'] = data_clean['sentiment'].replace(4, 1)\n",
    "data_clean.head()"
   ]
  },
  {
   "cell_type": "code",
   "execution_count": 7,
   "metadata": {},
   "outputs": [
    {
     "name": "stderr",
     "output_type": "stream",
     "text": [
      "[nltk_data] Downloading package stopwords to\n",
      "[nltk_data]     /Users/kunming/nltk_data...\n",
      "[nltk_data]   Package stopwords is already up-to-date!\n",
      "[nltk_data] Downloading package wordnet to /Users/kunming/nltk_data...\n",
      "[nltk_data]   Package wordnet is already up-to-date!\n"
     ]
    }
   ],
   "source": [
    "nltk.download('stopwords')\n",
    "stop_words = set(stopwords.words('english'))\n",
    "nltk.download('wordnet')\n",
    "lemmatizer = WordNetLemmatizer()\n",
    "\n",
    "def clean_function(text):\n",
    "    # Remove mention and tag\n",
    "    text = re.sub(r'@\\w+|#\\w+', ' ', text).strip()\n",
    "    # Remove URLs\n",
    "    text = re.sub(r'http\\S+|www\\S+|https\\S+', ' ', text)\n",
    "    # Remove other things expecting letters and space\n",
    "    text = re.sub(r'[^A-Za-z\\s]', ' ', text)\n",
    "    # Removing consecutive letters\n",
    "    text = re.sub(r'(.)\\1\\1+', r'\\1\\1', text)\n",
    "    # Transfer text to lowercase\n",
    "    text = text.lower()\n",
    "    # Tokenize the text\n",
    "    words = text.split()\n",
    "    # Lemmatize word\n",
    "    words = [lemmatizer.lemmatize(word) for word in words]\n",
    "    # Remove stopwords\n",
    "    words = [word for word in words if word not in stop_words]\n",
    "    # rejoin words to a string\n",
    "    ret_text = ' '.join(words)\n",
    "\n",
    "    return ret_text"
   ]
  },
  {
   "cell_type": "code",
   "execution_count": 8,
   "metadata": {},
   "outputs": [
    {
     "name": "stdout",
     "output_type": "stream",
     "text": [
      "<class 'pandas.core.frame.DataFrame'>\n",
      "RangeIndex: 300000 entries, 0 to 299999\n",
      "Data columns (total 2 columns):\n",
      " #   Column     Non-Null Count   Dtype \n",
      "---  ------     --------------   ----- \n",
      " 0   sentiment  300000 non-null  int64 \n",
      " 1   text       300000 non-null  object\n",
      "dtypes: int64(1), object(1)\n",
      "memory usage: 4.6+ MB\n"
     ]
    }
   ],
   "source": [
    "# Apply the clean function\n",
    "data_clean['text'] = data_clean['text'].apply(clean_function)\n",
    "\n",
    "data_clean.head()\n",
    "data_clean.info()"
   ]
  },
  {
   "cell_type": "code",
   "execution_count": 9,
   "metadata": {},
   "outputs": [
    {
     "data": {
      "image/png": "iVBORw0KGgoAAAANSUhEUgAAAk0AAAHFCAYAAADv8c1wAAAAOXRFWHRTb2Z0d2FyZQBNYXRwbG90bGliIHZlcnNpb24zLjguNCwgaHR0cHM6Ly9tYXRwbG90bGliLm9yZy8fJSN1AAAACXBIWXMAAA9hAAAPYQGoP6dpAABO0UlEQVR4nO3de1gWdf7/8dcth1sguEUQkDzmGTEt3RSt1FSwxFO1HSzKXddsLZXU7bD+dtXWVcuidtdMO3zVyqSDWhZJWh6K9WySYmZ+y2NBmCIgGiB8fn/0Y37egDoSdKM+H9d1X5fzmfc98565p+W1c8/M7TDGGAEAAOCc6ni6AQAAgIsBoQkAAMAGQhMAAIANhCYAAAAbCE0AAAA2EJoAAABsIDQBAADYQGgCAACwgdAEAABgA6EJ+A0sWLBADofDetWtW1cRERHq3bu3ZsyYoezs7ArvmTJlihwOxwWt5+TJk5oyZYrWrl17Qe+rbF3NmjVTfHz8BS3nfN588009//zzlc5zOByaMmVKta6vun366afq0qWLAgIC5HA49N5771Wo6dWrl9tnfbZXdW7r9OnTK+3lbBwOhx5++OFqW391mzNnjhYsWFBhfO3atXI4HHr33Xd/+6YASd6ebgC4nMyfP19t27ZVcXGxsrOzlZaWpqeeekrPPPOM3nrrLfXt29eq/dOf/qT+/ftf0PJPnjypqVOnSvrlj7ddVVlXVbz55pvKyMhQYmJihXkbNmxQo0aNaryHqjLG6I477lDr1q21fPlyBQQEqE2bNhXq5syZo7y8PGs6JSVF06ZNsz77MtW5rdOnT9ftt9+uIUOGVNsyPWnOnDkKDQ3V8OHDPd0K4IbQBPyGoqOj1aVLF2v6tttu0yOPPKLrr79et956q/bu3avw8HBJv/xRrekQcfLkSfn7+/8m6zqfbt26eXT95/PDDz/o2LFjGjp0qPr06XPWuqioKLfpr7/+WlLFzx7AxYev5wAPa9KkiZ599lnl5+dr3rx51nhlX5mtXr1avXr1UkhIiPz8/NSkSRPddtttOnnypPbv368GDRpIkqZOnWp9DVT2/9bLlvfFF1/o9ttvV3BwsFq0aHHWdZVZtmyZrr76atWtW1dXXXWV/v3vf7vNL/vqcf/+/W7jZV+llH1V2KtXL6WkpOjAgQNuX1OVqewrq4yMDA0ePFjBwcGqW7euOnXqpIULF1a6nsWLF2vSpEmKjIxUUFCQ+vbtqz179px9x58hLS1Nffr0UWBgoPz9/dW9e3elpKRY86dMmWKFyscee0wOh0PNmjWzteyzeeuttxQTE6OAgABdccUViouL0/bt29168vHx0cSJE93eV7a/X331VUm/7LeCggItXLjQ2qcXcpbxbIqKijRt2jS1bdtWTqdTDRo00B/+8AcdOXLEra7sa9zU1FRde+218vPzU9u2bfU///M/FZaZlpammJgY1a1bV1deeaX+9re/6ZVXXnE7fpo1a6Zdu3Zp3bp11vaU39fFxcXn/ay3b9+u+Ph4hYWFyel0KjIyUgMGDNDhw4d/9b7B5YvQBNQCt9xyi7y8vPTZZ5+dtWb//v0aMGCAfH199T//8z9KTU3VzJkzFRAQoKKiIjVs2FCpqamSpBEjRmjDhg3asGGD/va3v7kt59Zbb1XLli31zjvvaO7cuefsKz09XYmJiXrkkUe0bNkyde/eXePGjdMzzzxzwds4Z84c9ejRQxEREVZvGzZsOGv9nj171L17d+3atUv//ve/tXTpUkVFRWn48OF6+umnK9T/9a9/1YEDB/TKK6/opZde0t69ezVw4ECVlJScs69169bppptuUm5url599VUtXrxYgYGBGjhwoN566y1Jv3x9uXTpUknSmDFjtGHDBi1btuyC90GZ6dOn6+6771ZUVJTefvttvf7668rPz9cNN9ygr776SpJ0/fXXa9q0aXr22We1fPlySdKuXbv00EMP6d5779WIESMk/fK1pp+fn2655RZrn86ZM6fKvUlSaWmpBg8erJkzZ2rYsGFKSUnRzJkztWrVKvXq1UunTp1yq//yyy81YcIEPfLII3r//fd19dVXa8SIEW7H844dO9SvXz+dPHlSCxcu1Ny5c/XFF1/on//8p9uyli1bpquuukrXXHONtT3l9/X5PuuCggL169dPP/74o1544QWtWrVKzz//vJo0aaL8/PxftW9wmTMAatz8+fONJLNly5az1oSHh5t27dpZ05MnTzZn/if67rvvGkkmPT39rMs4cuSIkWQmT55cYV7Z8v7+97+fdd6ZmjZtahwOR4X19evXzwQFBZmCggK3bdu3b59b3Zo1a4wks2bNGmtswIABpmnTppX2Xr7vu+66yzidTnPw4EG3uptvvtn4+/ub48ePu63nlltucat7++23jSSzYcOGStdXplu3biYsLMzk5+dbY6dPnzbR0dGmUaNGprS01BhjzL59+4wkM2vWrHMur7zyn/3BgweNt7e3GTNmjFtdfn6+iYiIMHfccYc1Vlpaam655RZTr149k5GRYaKiokzbtm3NiRMn3N4bEBBg7r//fts9STIPPfTQWecvXrzYSDJLlixxG9+yZYuRZObMmWONNW3a1NStW9ccOHDAGjt16pSpX7++GTVqlDX2+9//3gQEBJgjR45YYyUlJSYqKqrC8dO+fXvTs2fPCn3Z/ay3bt1qJJn33nvv3DsCuECcaQJqCWPMOed36tRJvr6+euCBB7Rw4UJ99913VVrPbbfdZru2ffv26tixo9vYsGHDlJeXpy+++KJK67dr9erV6tOnjxo3buw2Pnz4cJ08ebLCWapBgwa5TV999dWSpAMHDpx1HQUFBdq0aZNuv/12XXHFFda4l5eXEhISdPjwYdtf8dn18ccf6/Tp07rvvvt0+vRp61W3bl317NnT7c5Hh8Oh1157TYGBgerSpYv27dunt99+WwEBAdXaU3kffvih6tWrp4EDB7r12KlTJ0VERFS4O7NTp05q0qSJNV23bl21bt3abd+XndELDQ21xurUqaM77rjjgvs732fdsmVLBQcH67HHHtPcuXOts3fAr0VoAmqBgoICHT16VJGRkWetadGihT755BOFhYXpoYceUosWLdSiRQv961//uqB1NWzY0HZtRETEWceOHj16Qeu9UEePHq2017J9VH79ISEhbtNOp1OSKnyVdKacnBwZYy5oPb/Wjz/+KEn63e9+Jx8fH7fXW2+9pZ9++smtPiQkRIMGDdLPP/+s/v37q0OHDtXaz9l6PH78uHx9fSv0mJWVVWmP5TmdTrd9f/ToUesmhzNVNnY+5/usXS6X1q1bp06dOumvf/2r2rdvr8jISE2ePFnFxcUXvD6gDHfPAbVASkqKSkpKznsB7w033KAbbrhBJSUl2rp1q/7zn/8oMTFR4eHhuuuuu2yt60Ke/ZSVlXXWsbI/XHXr1pUkFRYWutWV/8N6oUJCQpSZmVlh/IcffpAktzMWVRUcHKw6derU+HrOVLa8d999V02bNj1v/apVq/Tiiy/quuuu07Jly7RkyZILOltY1R5DQkKsa+TKCwwMvOBlhoSEWIHxTJUdY9WhQ4cOSk5OljFGO3bs0IIFC/Tkk0/Kz89Pjz/+eI2sE5c+zjQBHnbw4EFNnDhRLpdLo0aNsvUeLy8vde3aVS+88IIkWV+V2Tm7ciF27dqlL7/80m3szTffVGBgoK699lpJsu5s2rFjh1td2cXLZyp/9uFc+vTpo9WrV1vhpcxrr70mf3//anlEQUBAgLp27aqlS5e69VVaWqo33nhDjRo1UuvWrX/1es4UFxcnb29vffvtt+rSpUulrzKZmZm699571bNnT61fv16DBg3SiBEjtG/fPrdlXsh+tSM+Pl5Hjx5VSUlJpf1V9nyq8+nZs6dWr17tFqZLS0v1zjvvVKitzu1xOBzq2LGjnnvuOdWrV6/Gv1bGpY0zTcBvKCMjw7o+JDs7W59//rnmz58vLy8vLVu2zHpkQGXmzp2r1atXa8CAAWrSpIl+/vln67busodiBgYGqmnTpnr//ffVp08f1a9fX6GhoVW+PT4yMlKDBg3SlClT1LBhQ73xxhtatWqVnnrqKfn7+0v65WumNm3aaOLEiTp9+rSCg4O1bNkypaWlVVhehw4dtHTpUr344ovq3Lmz6tSpc9ZnF02ePFkffvihevfurb///e+qX7++Fi1apJSUFD399NNyuVxV2qbyZsyYoX79+ql3796aOHGifH19NWfOHGVkZGjx4sUX/FT282nWrJmefPJJTZo0Sd9995369++v4OBg/fjjj9q8ebMCAgI0depUlZSU6O6775bD4dCbb74pLy8vLViwQJ06ddKdd96ptLQ0+fr6Svplv65du1YffPCBGjZsqMDAwPMGm2+//bbSJ2tHRUXprrvu0qJFi3TLLbdo3Lhxuu666+Tj46PDhw9rzZo1Gjx4sIYOHXpB2z1p0iR98MEH6tOnjyZNmiQ/Pz/NnTtXBQUFkn65vqlM2Vmit956S1dddZXq1q17QV9Lfvjhh5ozZ46GDBmiq666SsYYLV26VMePH1e/fv0uqG/AjWevQwcuD2V3UJW9fH19TVhYmOnZs6eZPn26yc7OrvCe8ne0bdiwwQwdOtQ0bdrUOJ1OExISYnr27GmWL1/u9r5PPvnEXHPNNcbpdBpJ1l1VZcs78+6ls63LmF/uihowYIB59913Tfv27Y2vr69p1qyZSUpKqvD+b775xsTGxpqgoCDToEEDM2bMGJOSklLh7rljx46Z22+/3dSrV884HA63daqSu/527txpBg4caFwul/H19TUdO3Y08+fPd6spu6PqnXfecRsvu9utfH1lPv/8c3PTTTeZgIAA4+fnZ7p162Y++OCDSpf3a++eK/Pee++Z3r17m6CgION0Ok3Tpk3N7bffbj755BNjjDGTJk0yderUMZ9++qnb+9avX2+8vb3NuHHjrLH09HTTo0cP4+/vbyRVeufZmc48Fsu/yj6D4uJi88wzz5iOHTuaunXrmiuuuMK0bdvWjBo1yuzdu9daVtlxUl7Pnj0r9PH555+brl27GqfTaSIiIsxf/vIX89RTTxlJ1t2Qxhizf/9+ExsbawIDA40k645Lu5/1119/be6++27TokUL4+fnZ1wul7nuuuvMggULzrlfgPNxGHOeW3YAAKghsbGx2r9/v7755htPtwKcF1/PAQB+E+PHj9c111yjxo0b69ixY1q0aJFWrVplPd0cqO0ITQCA30RJSYn+/ve/KysrSw6HQ1FRUXr99dd17733ero1wBa+ngMAALDB448c+P7773XvvfcqJCRE/v7+6tSpk7Zt22bNN8ZoypQpioyMlJ+fn3r16qVdu3a5LaOwsFBjxoxRaGioAgICNGjQoAo/ypiTk6OEhAS5XC65XC4lJCTo+PHjbjUHDx7UwIEDFRAQoNDQUI0dO1ZFRUU1tu0AAODi4dHQlJOTox49esjHx0crVqzQV199pWeffVb16tWzap5++mklJSVp9uzZ2rJliyIiItSvXz+3H11MTEzUsmXLlJycrLS0NJ04cULx8fFuP9Q5bNgwpaenKzU1VampqUpPT1dCQoI1v6SkRAMGDFBBQYHS0tKUnJysJUuWaMKECb/JvgAAALWcJ2/de+yxx8z1119/1vmlpaUmIiLCzJw50xr7+eefjcvlMnPnzjXGGHP8+HHj4+NjkpOTrZrvv//e1KlTx6SmphpjjPnqq6+MJLNx40arZsOGDUaS+frrr40xxnz00UemTp065vvvv7dqFi9ebJxOp8nNza2eDQYAABctj14Ivnz5csXFxen3v/+91q1bpyuvvFKjR4/WyJEjJUn79u1TVlaWYmNjrfc4nU7r6bijRo3Stm3bVFxc7FYTGRmp6OhorV+/XnFxcdqwYYNcLpe6du1q1XTr1k0ul0vr169XmzZttGHDBkVHR7v99ldcXJwKCwu1bds29e7du0L/hYWFbj8dUVpaqmPHjikkJKTaH4gHAABqhjFG+fn5ioyMdHvQankeDU3fffedXnzxRY0fP15//etftXnzZo0dO1ZOp1P33Xef9ZtE5X/QMTw83Po166ysLPn6+io4OLhCTdn7s7KyFBYWVmH9YWFhbjXl1xMcHCxfX9+z/jbSjBkzNHXq1CpsOQAAqG0OHTqkRo0anXW+R0NTaWmpunTpounTp0uSrrnmGu3atUsvvvii7rvvPquu/FkbY8x5z+SUr6msvio1Z3riiSc0fvx4azo3N1dNmjTRoUOHFBQUdM7+AABA7ZCXl6fGjRuf98eoPRqaGjZsqKioKLexdu3aacmSJZKkiIgISb+cBWrYsKFVk52dbZ0VioiIUFFRkXJyctzONmVnZ6t79+5WTWW/rn3kyBG35WzatMltfk5OjoqLiyucgSrjdDqtH0g9U1BQEKEJAICLzPlOyHj07rkePXpoz549bmPffPONmjZtKklq3ry5IiIitGrVKmt+UVGR1q1bZwWizp07y8fHx60mMzNTGRkZVk1MTIxyc3O1efNmq2bTpk3Kzc11q8nIyFBmZqZVs3LlSjmdTnXu3LmatxwAAFx0PHkV+ubNm423t7f55z//afbu3WsWLVpk/P39zRtvvGHVzJw507hcLrN06VKzc+dOc/fdd5uGDRuavLw8q+bBBx80jRo1Mp988on54osvzE033WQ6duxoTp8+bdX079/fXH311WbDhg1mw4YNpkOHDiY+Pt6af/r0aRMdHW369OljvvjiC/PJJ5+YRo0amYcfftj29uTm5hpJ3G0HAMBFxO7fb4+GJmOM+eCDD0x0dLRxOp2mbdu25qWXXnKbX1paaiZPnmwiIiKM0+k0N954o9m5c6dbzalTp8zDDz9s6tevb/z8/Ex8fLw5ePCgW83Ro0fNPffcYwIDA01gYKC55557TE5OjlvNgQMHzIABA4yfn5+pX7++efjhh83PP/9se1sITQAAXHzs/v3mZ1SqUV5enlwul3Jzc7mmCQCAi4Tdv98e/xkVAACAiwGhCQAAwAZCEwAAgA2EJgAAABsITQAAADYQmgAAAGwgNAEAANhAaAIAALCB0AQAAGADoQkAAMAGQhMAAIAN3p5uAKiKZo+n1Mhy988cUCPLBQBc/DjTBAAAYAOhCQAAwAZCEwAAgA2EJgAAABsITQAAADYQmgAAAGwgNAEAANhAaAIAALCB0AQAAGADoQkAAMAGQhMAAIANhCYAAAAbCE0AAAA2EJoAAABsIDQBAADYQGgCAACwgdAEAABgA6EJAADABkITAACADYQmAAAAGwhNAAAANhCaAAAAbCA0AQAA2EBoAgAAsIHQBAAAYAOhCQAAwAZCEwAAgA2EJgAAABsITQAAADYQmgAAAGwgNAEAANhAaAIAALDB29MNwPOaPZ5SI8vdP3NAjSwXAABP4EwTAACADYQmAAAAGwhNAAAANhCaAAAAbCA0AQAA2EBoAgAAsMGjoWnKlClyOBxur4iICGu+MUZTpkxRZGSk/Pz81KtXL+3atcttGYWFhRozZoxCQ0MVEBCgQYMG6fDhw241OTk5SkhIkMvlksvlUkJCgo4fP+5Wc/DgQQ0cOFABAQEKDQ3V2LFjVVRUVGPbDgAALi4eP9PUvn17ZWZmWq+dO3da855++mklJSVp9uzZ2rJliyIiItSvXz/l5+dbNYmJiVq2bJmSk5OVlpamEydOKD4+XiUlJVbNsGHDlJ6ertTUVKWmpio9PV0JCQnW/JKSEg0YMEAFBQVKS0tTcnKylixZogkTJvw2OwEAANR6Hn+4pbe3t9vZpTLGGD3//POaNGmSbr31VknSwoULFR4erjfffFOjRo1Sbm6uXn31Vb3++uvq27evJOmNN95Q48aN9cknnyguLk67d+9WamqqNm7cqK5du0qSXn75ZcXExGjPnj1q06aNVq5cqa+++kqHDh1SZGSkJOnZZ5/V8OHD9c9//lNBQUG/0d4AAAC1lcfPNO3du1eRkZFq3ry57rrrLn333XeSpH379ikrK0uxsbFWrdPpVM+ePbV+/XpJ0rZt21RcXOxWExkZqejoaKtmw4YNcrlcVmCSpG7dusnlcrnVREdHW4FJkuLi4lRYWKht27adtffCwkLl5eW5vQAAwKXJo6Gpa9eueu211/Txxx/r5ZdfVlZWlrp3766jR48qKytLkhQeHu72nvDwcGteVlaWfH19FRwcfM6asLCwCusOCwtzqym/nuDgYPn6+lo1lZkxY4Z1nZTL5VLjxo0vcA8AAICLhUdD080336zbbrtNHTp0UN++fZWS8stvoC1cuNCqcTgcbu8xxlQYK698TWX1Vakp74knnlBubq71OnTo0Dn7AgAAFy+Pfz13poCAAHXo0EF79+61rnMqf6YnOzvbOisUERGhoqIi5eTknLPmxx9/rLCuI0eOuNWUX09OTo6Ki4srnIE6k9PpVFBQkNsLAABcmmpVaCosLNTu3bvVsGFDNW/eXBEREVq1apU1v6ioSOvWrVP37t0lSZ07d5aPj49bTWZmpjIyMqyamJgY5ebmavPmzVbNpk2blJub61aTkZGhzMxMq2blypVyOp3q3LlzjW4zAAC4OHj07rmJEydq4MCBatKkibKzszVt2jTl5eXp/vvvl8PhUGJioqZPn65WrVqpVatWmj59uvz9/TVs2DBJksvl0ogRIzRhwgSFhISofv36mjhxovV1nyS1a9dO/fv318iRIzVv3jxJ0gMPPKD4+Hi1adNGkhQbG6uoqCglJCRo1qxZOnbsmCZOnKiRI0dy9ggAAEjycGg6fPiw7r77bv30009q0KCBunXrpo0bN6pp06aSpEcffVSnTp3S6NGjlZOTo65du2rlypUKDAy0lvHcc8/J29tbd9xxh06dOqU+ffpowYIF8vLysmoWLVqksWPHWnfZDRo0SLNnz7bme3l5KSUlRaNHj1aPHj3k5+enYcOG6ZlnnvmN9gQAAKjtHMYY4+kmLhV5eXlyuVzKzc29qM5QNXs8pUaWu3/mgBpZrnRx9gwAqJ3s/v2uVdc0AQAA1FaEJgAAABsITQAAADYQmgAAAGwgNAEAANhAaAIAALCB0AQAAGADoQkAAMAGQhMAAIANhCYAAAAbCE0AAAA2EJoAAABsIDQBAADYQGgCAACwgdAEAABgA6EJAADABkITAACADYQmAAAAGwhNAAAANhCaAAAAbCA0AQAA2EBoAgAAsIHQBAAAYAOhCQAAwAZCEwAAgA2EJgAAABsITQAAADYQmgAAAGwgNAEAANhAaAIAALCB0AQAAGADoQkAAMAGQhMAAIANhCYAAAAbCE0AAAA2EJoAAABs8PZ0A8DlotnjKTWy3P0zB9TIcgEA7jjTBAAAYAOhCQAAwAZCEwAAgA2EJgAAABsITQAAADYQmgAAAGwgNAEAANhAaAIAALCB0AQAAGADoQkAAMAGQhMAAIANhCYAAAAbCE0AAAA21JrQNGPGDDkcDiUmJlpjxhhNmTJFkZGR8vPzU69evbRr1y639xUWFmrMmDEKDQ1VQECABg0apMOHD7vV5OTkKCEhQS6XSy6XSwkJCTp+/LhbzcGDBzVw4EAFBAQoNDRUY8eOVVFRUU1tLgAAuMjUitC0ZcsWvfTSS7r66qvdxp9++mklJSVp9uzZ2rJliyIiItSvXz/l5+dbNYmJiVq2bJmSk5OVlpamEydOKD4+XiUlJVbNsGHDlJ6ertTUVKWmpio9PV0JCQnW/JKSEg0YMEAFBQVKS0tTcnKylixZogkTJtT8xgMAgIuCx0PTiRMndM899+jll19WcHCwNW6M0fPPP69Jkybp1ltvVXR0tBYuXKiTJ0/qzTfflCTl5ubq1Vdf1bPPPqu+ffvqmmuu0RtvvKGdO3fqk08+kSTt3r1bqampeuWVVxQTE6OYmBi9/PLL+vDDD7Vnzx5J0sqVK/XVV1/pjTfe0DXXXKO+ffvq2Wef1csvv6y8vLzffqcAAIBax+Oh6aGHHtKAAQPUt29ft/F9+/YpKytLsbGx1pjT6VTPnj21fv16SdK2bdtUXFzsVhMZGano6GirZsOGDXK5XOratatV061bN7lcLrea6OhoRUZGWjVxcXEqLCzUtm3bztp7YWGh8vLy3F4AAODS5O3JlScnJ+uLL77Qli1bKszLysqSJIWHh7uNh4eH68CBA1aNr6+v2xmqspqy92dlZSksLKzC8sPCwtxqyq8nODhYvr6+Vk1lZsyYoalTp55vMwEAwCXAY2eaDh06pHHjxumNN95Q3bp1z1rncDjcpo0xFcbKK19TWX1Vasp74oknlJuba70OHTp0zr4AAMDFy2Ohadu2bcrOzlbnzp3l7e0tb29vrVu3Tv/+97/l7e1tnfkpf6YnOzvbmhcREaGioiLl5OScs+bHH3+ssP4jR4641ZRfT05OjoqLiyucgTqT0+lUUFCQ2wsAAFyaPBaa+vTpo507dyo9Pd16denSRffcc4/S09N11VVXKSIiQqtWrbLeU1RUpHXr1ql79+6SpM6dO8vHx8etJjMzUxkZGVZNTEyMcnNztXnzZqtm06ZNys3NdavJyMhQZmamVbNy5Uo5nU517ty5RvcDAAC4OHjsmqbAwEBFR0e7jQUEBCgkJMQaT0xM1PTp09WqVSu1atVK06dPl7+/v4YNGyZJcrlcGjFihCZMmKCQkBDVr19fEydOVIcOHawLy9u1a6f+/ftr5MiRmjdvniTpgQceUHx8vNq0aSNJio2NVVRUlBISEjRr1iwdO3ZMEydO1MiRIzl7BAAAJHn4QvDzefTRR3Xq1CmNHj1aOTk56tq1q1auXKnAwECr5rnnnpO3t7fuuOMOnTp1Sn369NGCBQvk5eVl1SxatEhjx4617rIbNGiQZs+ebc338vJSSkqKRo8erR49esjPz0/Dhg3TM88889ttLAAAqNUcxhjj6SYuFXl5eXK5XMrNzb2ozlA1ezylRpa7f+aAGlmuRM9nqsmeAeByYPfvt8ef0wQAAHAxIDQBAADYQGgCAACwgdAEAABgA6EJAADABkITAACADYQmAAAAGwhNAAAANhCaAAAAbCA0AQAA2EBoAgAAsIHQBAAAYAOhCQAAwAZCEwAAgA2EJgAAABsITQAAADYQmgAAAGwgNAEAANhAaAIAALCB0AQAAGADoQkAAMAGQhMAAIANVQpN+/btq+4+AAAAarUqhaaWLVuqd+/eeuONN/Tzzz9Xd08AAAC1TpVC05dffqlrrrlGEyZMUEREhEaNGqXNmzdXd28AAAC1RpVCU3R0tJKSkvT9999r/vz5ysrK0vXXX6/27dsrKSlJR44cqe4+AQAAPMr7V73Z21tDhw7VLbfcojlz5uiJJ57QxIkT9cQTT+jOO+/UU089pYYNG1ZXrwAq0ezxlBpb9v6ZA2ps2QBwsflVd89t3bpVo0ePVsOGDZWUlKSJEyfq22+/1erVq/X9999r8ODB1dUnAACAR1XpTFNSUpLmz5+vPXv26JZbbtFrr72mW265RXXq/JLBmjdvrnnz5qlt27bV2iwAAICnVCk0vfjii/rjH/+oP/zhD4qIiKi0pkmTJnr11Vd/VXMAAAC1RZVC0969e89b4+vrq/vvv78qiwcAAKh1qnRN0/z58/XOO+9UGH/nnXe0cOHCX90UAABAbVOl0DRz5kyFhoZWGA8LC9P06dN/dVMAAAC1TZVC04EDB9S8efMK402bNtXBgwd/dVMAAAC1TZVCU1hYmHbs2FFh/Msvv1RISMivbgoAAKC2qVJouuuuuzR27FitWbNGJSUlKikp0erVqzVu3Djddddd1d0jAACAx1Xp7rlp06bpwIED6tOnj7y9f1lEaWmp7rvvPq5pAgAAl6QqhSZfX1+99dZb+sc//qEvv/xSfn5+6tChg5o2bVrd/QEAANQKv+q351q3bq3WrVtXVy8AAAC1VpVCU0lJiRYsWKBPP/1U2dnZKi0tdZu/evXqamkOAACgtqhSaBo3bpwWLFigAQMGKDo6Wg6Ho7r7AgAAqFWqFJqSk5P19ttv65ZbbqnufgAAAGqlKj1ywNfXVy1btqzuXgAAAGqtKoWmCRMm6F//+peMMdXdDwAAQK1Upa/n0tLStGbNGq1YsULt27eXj4+P2/ylS5dWS3MAAAC1RZVCU7169TR06NDq7gUAAKDWqlJomj9/fnX3AQAAUKtV6ZomSTp9+rQ++eQTzZs3T/n5+ZKkH374QSdOnKi25gAAAGqLKp1pOnDggPr376+DBw+qsLBQ/fr1U2BgoJ5++mn9/PPPmjt3bnX3CQAA4FFVOtM0btw4denSRTk5OfLz87PGhw4dqk8//bTamgMAAKgtqnz33H//+1/5+vq6jTdt2lTff/99tTQGAABQm1TpTFNpaalKSkoqjB8+fFiBgYG2l/Piiy/q6quvVlBQkIKCghQTE6MVK1ZY840xmjJliiIjI+Xn56devXpp165dbssoLCzUmDFjFBoaqoCAAA0aNEiHDx92q8nJyVFCQoJcLpdcLpcSEhJ0/Phxt5qDBw9q4MCBCggIUGhoqMaOHauioiLb2wIAAC5tVQpN/fr10/PPP29NOxwOnThxQpMnT76gn1Zp1KiRZs6cqa1bt2rr1q266aabNHjwYCsYPf3000pKStLs2bO1ZcsWRUREqF+/ftaF55KUmJioZcuWKTk5WWlpaTpx4oTi4+PdQt2wYcOUnp6u1NRUpaamKj09XQkJCdb8kpISDRgwQAUFBUpLS1NycrKWLFmiCRMmVGX3AACAS5DDVOGx3j/88IN69+4tLy8v7d27V126dNHevXsVGhqqzz77TGFhYVVuqH79+po1a5b++Mc/KjIyUomJiXrsscck/XJWKTw8XE899ZRGjRql3NxcNWjQQK+//rruvPNOq7fGjRvro48+UlxcnHbv3q2oqCht3LhRXbt2lSRt3LhRMTEx+vrrr9WmTRutWLFC8fHxOnTokCIjIyX98vt6w4cPV3Z2toKCgmz1npeXJ5fLpdzcXNvvqQ2aPZ5SI8vdP3NAjSxXouffSk3uDwCoLez+/a7SNU2RkZFKT0/X4sWL9cUXX6i0tFQjRozQPffc43Zh+IUoKSnRO++8o4KCAsXExGjfvn3KyspSbGysVeN0OtWzZ0+tX79eo0aN0rZt21RcXOxWExkZqejoaK1fv15xcXHasGGDXC6XFZgkqVu3bnK5XFq/fr3atGmjDRs2KDo62gpMkhQXF6fCwkJt27ZNvXv3rrTnwsJCFRYWWtN5eXlV2vZL1cUYEgAAOJsqhSZJ8vPz0x//+Ef98Y9//FUN7Ny5UzExMfr55591xRVXaNmyZYqKitL69eslSeHh4W714eHhOnDggCQpKytLvr6+Cg4OrlCTlZVl1VR25issLMytpvx6goOD5evra9VUZsaMGZo6deoFbjEAALgYVSk0vfbaa+ecf99999leVps2bZSenq7jx49ryZIluv/++7Vu3TprvsPhcKs3xlQYK698TWX1Vakp74knntD48eOt6by8PDVu3PicvQEAgItTlULTuHHj3KaLi4t18uRJ+fr6yt/f/4JCk6+vr1q2bClJ6tKli7Zs2aJ//etf1nVMWVlZatiwoVWfnZ1tnRWKiIhQUVGRcnJy3M42ZWdnq3v37lbNjz/+WGG9R44ccVvOpk2b3Obn5OSouLi4whmoMzmdTjmdTtvbCgAALl5VunsuJyfH7XXixAnt2bNH119/vRYvXvyrGjLGqLCwUM2bN1dERIRWrVplzSsqKtK6deusQNS5c2f5+Pi41WRmZiojI8OqiYmJUW5urjZv3mzVbNq0Sbm5uW41GRkZyszMtGpWrlwpp9Opzp07/6rtAQAAl4YqX9NUXqtWrTRz5kzde++9+vrrr229569//atuvvlmNW7cWPn5+UpOTtbatWuVmpoqh8OhxMRETZ8+Xa1atVKrVq00ffp0+fv7a9iwYZIkl8ulESNGaMKECQoJCVH9+vU1ceJEdejQQX379pUktWvXTv3799fIkSM1b948SdIDDzyg+Ph4tWnTRpIUGxurqKgoJSQkaNasWTp27JgmTpyokSNHXlR3wQEAgJpTbaFJkry8vPTDDz/Yrv/xxx+VkJCgzMxMuVwuXX311UpNTVW/fv0kSY8++qhOnTql0aNHKycnR127dtXKlSvdHqD53HPPydvbW3fccYdOnTqlPn36aMGCBfLy8rJqFi1apLFjx1p32Q0aNEizZ8926zslJUWjR49Wjx495Ofnp2HDhumZZ575tbsEAABcIqr0nKbly5e7TRtjlJmZqdmzZ6tx48ZuT/W+nPCcposfz2lyx3OaAFwOavQ5TUOGDHGbdjgcatCggW666SY9++yzVVkkAABArVal0FRaWlrdfQAAANRqVbp7DgAA4HJTpTNNZz7Q8XySkpKqsgoAAIBapUqhafv27friiy90+vRp67b9b775Rl5eXrr22mutuvM9uRsAAOBiUaXQNHDgQAUGBmrhwoXWk7hzcnL0hz/8QTfccIMmTJhQrU0CAAB4WpWuaXr22Wc1Y8YMt58uCQ4O1rRp07h7DgAAXJKqFJry8vIq/T237Oxs5efn/+qmAAAAapsqhaahQ4fqD3/4g959910dPnxYhw8f1rvvvqsRI0bo1ltvre4eAQAAPK5K1zTNnTtXEydO1L333qvi4uJfFuTtrREjRmjWrFnV2iAAAEBtUKXQ5O/vrzlz5mjWrFn69ttvZYxRy5YtFRAQUN39AQAA1Aq/6uGWmZmZyszMVOvWrRUQEKAq/IwdAADARaFKoeno0aPq06ePWrdurVtuuUWZmZmSpD/96U88bgAAAFySqhSaHnnkEfn4+OjgwYPy9/e3xu+8806lpqZWW3MAAAC1RZWuaVq5cqU+/vhjNWrUyG28VatWOnDgQLU0BgAAUJtU6UxTQUGB2xmmMj/99JOcTuevbgoAAKC2qVJouvHGG/Xaa69Z0w6HQ6WlpZo1a5Z69+5dbc0BAADUFlX6em7WrFnq1auXtm7dqqKiIj366KPatWuXjh07pv/+97/V3SMAAIDHVelMU1RUlHbs2KHrrrtO/fr1U0FBgW699VZt375dLVq0qO4eAQAAPO6CzzQVFxcrNjZW8+bN09SpU2uiJwAAgFrngs80+fj4KCMjQw6Hoyb6AQAAqJWq9PXcfffdp1dffbW6ewEAAKi1qnQheFFRkV555RWtWrVKXbp0qfCbc0lJSdXSHAAAQG1xQaHpu+++U7NmzZSRkaFrr71WkvTNN9+41fC1HS5mzR5P8XQLAIBa6oJCU6tWrZSZmak1a9ZI+uVnU/79738rPDy8RpoDAACoLS7omiZjjNv0ihUrVFBQUK0NAQAA1EZVuhC8TPkQBQAAcKm6oNDkcDgqXLPENUwAAOBycEHXNBljNHz4cOtHeX/++Wc9+OCDFe6eW7p0afV1CAAAUAtcUGi6//773abvvffeam0GAACgtrqg0DR//vya6gMAAKBW+1UXggMAAFwuCE0AAAA2EJoAAABsIDQBAADYQGgCAACwgdAEAABgA6EJAADABkITAACADYQmAAAAGwhNAAAANhCaAAAAbCA0AQAA2EBoAgAAsIHQBAAAYAOhCQAAwAZCEwAAgA2EJgAAABsITQAAADYQmgAAAGzwaGiaMWOGfve73ykwMFBhYWEaMmSI9uzZ41ZjjNGUKVMUGRkpPz8/9erVS7t27XKrKSws1JgxYxQaGqqAgAANGjRIhw8fdqvJyclRQkKCXC6XXC6XEhISdPz4cbeagwcPauDAgQoICFBoaKjGjh2roqKiGtl2AABwcfFoaFq3bp0eeughbdy4UatWrdLp06cVGxurgoICq+bpp59WUlKSZs+erS1btigiIkL9+vVTfn6+VZOYmKhly5YpOTlZaWlpOnHihOLj41VSUmLVDBs2TOnp6UpNTVVqaqrS09OVkJBgzS8pKdGAAQNUUFCgtLQ0JScna8mSJZowYcJvszMAAECt5jDGGE83UebIkSMKCwvTunXrdOONN8oYo8jISCUmJuqxxx6T9MtZpfDwcD311FMaNWqUcnNz1aBBA73++uu68847JUk//PCDGjdurI8++khxcXHavXu3oqKitHHjRnXt2lWStHHjRsXExOjrr79WmzZttGLFCsXHx+vQoUOKjIyUJCUnJ2v48OHKzs5WUFDQefvPy8uTy+VSbm6urfraotnjKZ5uAbXU/pkDPN0CANQ4u3+/a9U1Tbm5uZKk+vXrS5L27dunrKwsxcbGWjVOp1M9e/bU+vXrJUnbtm1TcXGxW01kZKSio6Otmg0bNsjlclmBSZK6desml8vlVhMdHW0FJkmKi4tTYWGhtm3bVkNbDAAALhbenm6gjDFG48eP1/XXX6/o6GhJUlZWliQpPDzcrTY8PFwHDhywanx9fRUcHFyhpuz9WVlZCgsLq7DOsLAwt5ry6wkODpavr69VU15hYaEKCwut6by8PNvbCwAALi615kzTww8/rB07dmjx4sUV5jkcDrdpY0yFsfLK11RWX5WaM82YMcO6sNzlcqlx48bn7AkAAFy8akVoGjNmjJYvX641a9aoUaNG1nhERIQkVTjTk52dbZ0VioiIUFFRkXJycs5Z8+OPP1ZY75EjR9xqyq8nJydHxcXFFc5AlXniiSeUm5trvQ4dOnQhmw0AAC4iHg1Nxhg9/PDDWrp0qVavXq3mzZu7zW/evLkiIiK0atUqa6yoqEjr1q1T9+7dJUmdO3eWj4+PW01mZqYyMjKsmpiYGOXm5mrz5s1WzaZNm5Sbm+tWk5GRoczMTKtm5cqVcjqd6ty5c6X9O51OBQUFub0AAMClyaPXND300EN688039f777yswMNA60+NyueTn5yeHw6HExERNnz5drVq1UqtWrTR9+nT5+/tr2LBhVu2IESM0YcIEhYSEqH79+po4caI6dOigvn37SpLatWun/v37a+TIkZo3b54k6YEHHlB8fLzatGkjSYqNjVVUVJQSEhI0a9YsHTt2TBMnTtTIkSMJQwAAwLOh6cUXX5Qk9erVy218/vz5Gj58uCTp0Ucf1alTpzR69Gjl5OSoa9euWrlypQIDA6365557Tt7e3rrjjjt06tQp9enTRwsWLJCXl5dVs2jRIo0dO9a6y27QoEGaPXu2Nd/Ly0spKSkaPXq0evToIT8/Pw0bNkzPPPNMDW09cHmrqUdd8JgEADWlVj2n6WLHc5pwqanJAEJoAlBbXJTPaQIAAKitCE0AAAA2EJoAAABsIDQBAADYQGgCAACwgdAEAABgA6EJAADABkITAACADYQmAAAAGwhNAAAANhCaAAAAbCA0AQAA2EBoAgAAsIHQBAAAYAOhCQAAwAZCEwAAgA2EJgAAABsITQAAADYQmgAAAGwgNAEAANhAaAIAALCB0AQAAGADoQkAAMAGQhMAAIANhCYAAAAbCE0AAAA2EJoAAABsIDQBAADYQGgCAACwgdAEAABgA6EJAADABkITAACADd6ebgBA7dXs8RRPtwAAtQZnmgAAAGwgNAEAANhAaAIAALCB0AQAAGADoQkAAMAGQhMAAIANhCYAAAAbCE0AAAA2EJoAAABs4IngFwmezAwAgGdxpgkAAMAGQhMAAIANhCYAAAAbCE0AAAA2EJoAAABsIDQBAADYQGgCAACwgdAEAABgg0dD02effaaBAwcqMjJSDodD7733ntt8Y4ymTJmiyMhI+fn5qVevXtq1a5dbTWFhocaMGaPQ0FAFBARo0KBBOnz4sFtNTk6OEhIS5HK55HK5lJCQoOPHj7vVHDx4UAMHDlRAQIBCQ0M1duxYFRUV1cRmAwCAi5BHQ1NBQYE6duyo2bNnVzr/6aefVlJSkmbPnq0tW7YoIiJC/fr1U35+vlWTmJioZcuWKTk5WWlpaTpx4oTi4+NVUlJi1QwbNkzp6elKTU1Vamqq0tPTlZCQYM0vKSnRgAEDVFBQoLS0NCUnJ2vJkiWaMGFCzW08AAC4qDiMMcbTTUiSw+HQsmXLNGTIEEm/nGWKjIxUYmKiHnvsMUm/nFUKDw/XU089pVGjRik3N1cNGjTQ66+/rjvvvFOS9MMPP6hx48b66KOPFBcXp927dysqKkobN25U165dJUkbN25UTEyMvv76a7Vp00YrVqxQfHy8Dh06pMjISElScnKyhg8fruzsbAUFBdnahry8PLlcLuXm5tp+j138jApgz/6ZAzzdAoCLjN2/37X2mqZ9+/YpKytLsbGx1pjT6VTPnj21fv16SdK2bdtUXFzsVhMZGano6GirZsOGDXK5XFZgkqRu3brJ5XK51URHR1uBSZLi4uJUWFiobdu2nbXHwsJC5eXlub0AAMClqdaGpqysLElSeHi423h4eLg1LysrS76+vgoODj5nTVhYWIXlh4WFudWUX09wcLB8fX2tmsrMmDHDuk7K5XKpcePGF7iVAADgYlFrQ1MZh8PhNm2MqTBWXvmayuqrUlPeE088odzcXOt16NChc/YFAAAuXrU2NEVEREhShTM92dnZ1lmhiIgIFRUVKScn55w1P/74Y4XlHzlyxK2m/HpycnJUXFxc4QzUmZxOp4KCgtxeAADg0lRrQ1Pz5s0VERGhVatWWWNFRUVat26dunfvLknq3LmzfHx83GoyMzOVkZFh1cTExCg3N1ebN2+2ajZt2qTc3Fy3moyMDGVmZlo1K1eulNPpVOfOnWt0OwEAwMXB25MrP3HihP73f//Xmt63b5/S09NVv359NWnSRImJiZo+fbpatWqlVq1aafr06fL399ewYcMkSS6XSyNGjNCECRMUEhKi+vXra+LEierQoYP69u0rSWrXrp369++vkSNHat68eZKkBx54QPHx8WrTpo0kKTY2VlFRUUpISNCsWbN07NgxTZw4USNHjuTsEQAAkOTh0LR161b17t3bmh4/frwk6f7779eCBQv06KOP6tSpUxo9erRycnLUtWtXrVy5UoGBgdZ7nnvuOXl7e+uOO+7QqVOn1KdPHy1YsEBeXl5WzaJFizR27FjrLrtBgwa5PRvKy8tLKSkpGj16tHr06CE/Pz8NGzZMzzzzTE3vAgAAcJGoNc9puhTwnCbA83hOE4ALddE/pwkAAKA2ITQBAADYQGgCAACwgdAEAABgA6EJAADABkITAACADYQmAAAAGwhNAAAANhCaAAAAbCA0AQAA2EBoAgAAsIHQBAAAYAOhCQAAwAZCEwAAgA2EJgAAABsITQAAADYQmgAAAGwgNAEAANhAaAIAALCB0AQAAGADoQkAAMAGb083AAAXi2aPp9TIcvfPHFAjywVQvQhNAC4pNRVsAICv5wAAAGwgNAEAANhAaAIAALCB0AQAAGADoQkAAMAGQhMAAIANhCYAAAAbCE0AAAA2EJoAAABsIDQBAADYQGgCAACwgdAEAABgA6EJAADABkITAACADYQmAAAAGwhNAAAANhCaAAAAbCA0AQAA2EBoAgAAsIHQBAAAYAOhCQAAwAZCEwAAgA2EJgAAABu8Pd0AAFzumj2eUmPL3j9zQI0tG7jccKYJAADABkITAACADYQmAAAAGwhN5cyZM0fNmzdX3bp11blzZ33++eeebgkAANQChKYzvPXWW0pMTNSkSZO0fft23XDDDbr55pt18OBBT7cGAAA8jNB0hqSkJI0YMUJ/+tOf1K5dOz3//PNq3LixXnzxRU+3BgAAPIxHDvw/RUVF2rZtmx5//HG38djYWK1fv95DXQHAr1NTjzPgUQa4HBGa/p+ffvpJJSUlCg8PdxsPDw9XVlZWpe8pLCxUYWGhNZ2bmytJysvLq/b+SgtPVvsyAaCqmjzyTo0tO2NqXI0tG6hM2d9tY8w56whN5TgcDrdpY0yFsTIzZszQ1KlTK4w3bty4RnoDgMuB63lPd4DLVX5+vlwu11nnE5r+n9DQUHl5eVU4q5SdnV3h7FOZJ554QuPHj7emS0tLdezYMYWEhJw1aFVFXl6eGjdurEOHDikoKKjalnspYN9Ujv1yduybyrFfKsd+ObtLad8YY5Sfn6/IyMhz1hGa/h9fX1917txZq1at0tChQ63xVatWafDgwZW+x+l0yul0uo3Vq1evxnoMCgq66A/MmsK+qRz75ezYN5Vjv1SO/XJ2l8q+OdcZpjKEpjOMHz9eCQkJ6tKli2JiYvTSSy/p4MGDevDBBz3dGgAA8DBC0xnuvPNOHT16VE8++aQyMzMVHR2tjz76SE2bNvV0awAAwMMITeWMHj1ao0eP9nQbbpxOpyZPnlzhq0Cwb86G/XJ27JvKsV8qx345u8tx3zjM+e6vAwAAAE8EBwAAsIPQBAAAYAOhCQAAwAZCEwAAgA2EpovAnDlz1Lx5c9WtW1edO3fW559/7umWPGrKlClyOBxur4iICE+35RGfffaZBg4cqMjISDkcDr333ntu840xmjJliiIjI+Xn56devXpp165dnmn2N3S+/TJ8+PAKx1C3bt080+xvaMaMGfrd736nwMBAhYWFaciQIdqzZ49bzeV6zNjZN5fjcfPiiy/q6quvth5gGRMToxUrVljzL7fjhdBUy7311ltKTEzUpEmTtH37dt1www26+eabdfDgQU+35lHt27dXZmam9dq5c6enW/KIgoICdezYUbNnz650/tNPP62kpCTNnj1bW7ZsUUREhPr166f8/PzfuNPf1vn2iyT179/f7Rj66KOPfsMOPWPdunV66KGHtHHjRq1atUqnT59WbGysCgoKrJrL9Zixs2+ky++4adSokWbOnKmtW7dq69atuummmzR48GArGF12x4tBrXbdddeZBx980G2sbdu25vHHH/dQR543efJk07FjR0+3UetIMsuWLbOmS0tLTUREhJk5c6Y19vPPPxuXy2Xmzp3rgQ49o/x+McaY+++/3wwePNgj/dQm2dnZRpJZt26dMYZj5kzl940xHDdlgoODzSuvvHJZHi+caarFioqKtG3bNsXGxrqNx8bGav369R7qqnbYu3evIiMj1bx5c91111367rvvPN1SrbNv3z5lZWW5HT9Op1M9e/a87I8fSVq7dq3CwsLUunVrjRw5UtnZ2Z5u6TeXm5srSapfv74kjpkzld83ZS7n46akpETJyckqKChQTEzMZXm8EJpqsZ9++kklJSUKDw93Gw8PD1dWVpaHuvK8rl276rXXXtPHH3+sl19+WVlZWerevbuOHj3q6dZqlbJjhOOnoptvvlmLFi3S6tWr9eyzz2rLli266aabVFhY6OnWfjPGGI0fP17XX3+9oqOjJXHMlKls30iX73Gzc+dOXXHFFXI6nXrwwQe1bNkyRUVFXZbHCz+jchFwOBxu08aYCmOXk5tvvtn6d4cOHRQTE6MWLVpo4cKFGj9+vAc7q504fiq68847rX9HR0erS5cuatq0qVJSUnTrrbd6sLPfzsMPP6wdO3YoLS2twrzL/Zg52765XI+bNm3aKD09XcePH9eSJUt0//33a926ddb8y+l44UxTLRYaGiovL68KiT07O7tCsr+cBQQEqEOHDtq7d6+nW6lVyu4o5Pg5v4YNG6pp06aXzTE0ZswYLV++XGvWrFGjRo2scY6Zs++bylwux42vr69atmypLl26aMaMGerYsaP+9a9/XZbHC6GpFvP19VXnzp21atUqt/FVq1ape/fuHuqq9iksLNTu3bvVsGFDT7dSqzRv3lwRERFux09RUZHWrVvH8VPO0aNHdejQoUv+GDLG6OGHH9bSpUu1evVqNW/e3G3+5XzMnG/fVOZyOW7KM8aosLDw8jxePHYJOmxJTk42Pj4+5tVXXzVfffWVSUxMNAEBAWb//v2ebs1jJkyYYNauXWu+++47s3HjRhMfH28CAwMvy32Sn59vtm/fbrZv324kmaSkJLN9+3Zz4MABY4wxM2fONC6XyyxdutTs3LnT3H333aZhw4YmLy/Pw53XrHPtl/z8fDNhwgSzfv16s2/fPrNmzRoTExNjrrzyykt+v/z5z382LpfLrF271mRmZlqvkydPWjWX6zFzvn1zuR43TzzxhPnss8/Mvn37zI4dO8xf//pXU6dOHbNy5UpjzOV3vBCaLgIvvPCCadq0qfH19TXXXnut2y2wl6M777zTNGzY0Pj4+JjIyEhz6623ml27dnm6LY9Ys2aNkVThdf/99xtjfrmFfPLkySYiIsI4nU5z4403mp07d3q26d/AufbLyZMnTWxsrGnQoIHx8fExTZo0Mffff785ePCgp9uucZXtE0lm/vz5Vs3lesycb99crsfNH//4R+vvT4MGDUyfPn2swGTM5Xe8OIwx5rc7rwUAAHBx4pomAAAAGwhNAAAANhCaAAAAbCA0AQAA2EBoAgAAsIHQBAAAYAOhCQAAwAZCE4Baz+Fw6L333rvg9+3Zs0cRERHKz8+v/qYu0IIFC1SvXj1Pt+HmvffeU8uWLeXl5aXExERPt+Nm+PDhGjJkiK3aiRMnauzYsTXbECBCE+BxDofjnK/hw4f/6uXbCRxVDSbVacqUKerUqVO1LW/SpEl66KGHFBgYWG3LvJSMGjVKt99+uw4dOqR//OMfnm6nyh599FHNnz9f+/bt83QruMQRmgAPy8zMtF7PP/+8goKC3Mb+9a9/ebrFi9Lhw4e1fPly/eEPf/B0KzWquLi4Su87ceKEsrOzFRcXp8jISI8Fy6r2f6awsDDFxsZq7ty51dARcHaEJsDDIiIirJfL5ZLD4XAb++yzz9S5c2fVrVtXV111laZOnarTp09Lkp588klFRkbq6NGj1vIGDRqkG2+8UaWlpWrWrJkkaejQoXI4HNZ0VcyfP1/t2rVT3bp11bZtW82ZM8eat3//fjkcDi1dulS9e/eWv7+/OnbsqA0bNrgt4+WXX1bjxo3l7++voUOHKikpyfrKasGCBZo6daq+/PJL6yzbggULrPf+9NNPGjp0qPz9/dWqVSstX778nP2+/fbb6tixoxo1amSNlX1F9vHHH6tdu3a64oor1L9/f2VmZlo1vXr1qvBV1ZAhQ9zO+DVr1kzTpk3TfffdpyuuuEJNmzbV+++/ryNHjmjw4MG64oor1KFDB23durVCX++9955at26tunXrql+/fjp06JDb/A8++OCsn7f0yxnBuXPnavDgwQoICNC0adMq3f6cnBzdd999Cg4Olr+/v26++Wbt3btXkrR27VorJN10001yOBxau3ZthWVMmDBBAwcOtKaff/55ORwOpaSkWGNt2rTRvHnzJEmlpaV68skn1ahRIzmdTnXq1EmpqalWbdlx8vbbb6tXr16qW7eu3njjDZWUlGj8+PGqV6+eQkJC9Oijj6r8L3y9++676tChg/z8/BQSEqK+ffuqoKDAmj9o0CAtXry40n0BVBsP//YdgDPMnz/fuFwuazo1NdUEBQWZBQsWmG+//dasXLnSNGvWzEyZMsUYY8zp06dNTEyMGTJkiDHGmBdffNG4XC6zf/9+Y4wx2dnZ1o+OZmZmmuzs7LOuW5JZtmxZpfNeeukl07BhQ7NkyRLz3XffmSVLlpj69eubBQsWGGOM2bdvn5Fk2rZtaz788EOzZ88ec/vtt5umTZua4uJiY4wxaWlppk6dOmbWrFlmz5495oUXXjD169e3tvfkyZNmwoQJpn379hV+YV6SadSokXnzzTfN3r17zdixY80VV1xhjh49etbtGTx4sHnwwQcr7F8fHx/Tt29fs2XLFrNt2zbTrl07M2zYMKumZ8+eZty4cRWWVfYjyMYY07RpU1O/fn0zd+5c880335g///nPJjAw0PTv39+8/fbbZs+ePWbIkCGmXbt2prS01G3dXbp0MevXrzdbt2411113nenevbu13PN93mX7IiwszLz66qvm22+/tT7r8gYNGmTatWtnPvvsM5Oenm7i4uJMy5YtTVFRkSksLDR79uwxksySJUtMZmamKSwsrLCM5cuXG5fLZUpKSowxxgwZMsSEhoaav/zlL8YYYzIzM40ks3v3bmOMMUlJSSYoKMgsXrzYfP311+bRRx81Pj4+5ptvvjHG/P/jpFmzZtax9P3335unnnrKuFwu8+6775qvvvrKjBgxwgQGBprBgwcbY4z54YcfjLe3t0lKSjL79u0zO3bsMC+88ILJz8+3ev3qq6+MpLPuD6A6EJqAWqR8aLrhhhvM9OnT3Wpef/1107BhQ2v622+/NYGBgeaxxx4z/v7+5o033nCrP1cYslvXuHFj8+abb7qN/eMf/zAxMTHGmP//x/CVV16x5u/atcvtD+qdd95pBgwY4LaMe+65x217J0+ebDp27Fhpb//n//wfa/rEiRPG4XCYFStWnHV7OnbsaJ588km3sfnz5xtJ5n//93+tsRdeeMGEh4db03ZD07333mtNl4WHv/3tb9bYhg0bjCSTmZnptu6NGzdaNbt37zaSzKZNm4wx9j5vSSYxMfGs222MMd98842RZP773/9aYz/99JPx8/Mzb7/9tjHGmJycHCPJrFmz5qzLOX78uKlTp47ZunWrKS0tNSEhIWbGjBnmd7/7nTHGmDfffNNt30VGRpp//vOfbsv43e9+Z0aPHm2M+f/HyfPPP+9W07BhQzNz5kxruri42DRq1MgKTdu2bTtvIMrNzTWSzNq1a8+xZ4Bfh6/ngFps27ZtevLJJ3XFFVdYr5EjRyozM1MnT56UJF111VV65pln9NRTT2ngwIG65557qrWHI0eO6NChQxoxYoRbH9OmTdO3337rVnv11Vdb/27YsKEkKTs7W9Ivd7Jdd911bvXlp8/lzGUHBAQoMDDQWnZlTp06pbp161YY9/f3V4sWLdz6PNdy7PQTHh4uSerQoUOFsTOX7e3trS5duljTbdu2Vb169bR7925J9j5vSW7LqMzu3bvl7e2trl27WmMhISFq06aNtS47XC6XOnXqpLVr12rnzp2qU6eORo0apS+//FL5+flau3atevbsKUnKy8vTDz/8oB49ergto0ePHhXWeWb/ubm5yszMVExMjDVWfj917NhRffr0UYcOHfT73/9eL7/8snJyctyW6efnJ0lu+wmobt6ebgDA2ZWWlmrq1Km69dZbK8w7MxB89tln8vLy0v79+3X69Gl5e1fff9qlpaWSfrke6cw/wpLk5eXlNu3j42P92+FwuL3fGGONlTHlrls5lzOXXbb8smVXJjQ0tMIf1rMt58w+6tSpU6Gvyi5Wrmxbz7X95ccrG7P7eQcEBFSYf6az7dfKPoPz6dWrl9auXStfX1/17NlTwcHBat++vf773/9q7dq1Fa7/quwzLj92vv7L8/Ly0qpVq7R+/XqtXLlS//nPfzRp0iRt2rRJzZs3lyQdO3ZMktSgQYMLWjZwITjTBNRi1157rfbs2aOWLVtWeNWp88t/vm+99ZaWLl2qtWvXVnrruI+Pj0pKSqrcQ3h4uK688kp99913FXoo+4NlR9u2bbV582a3sfIXSvv6+v6qXs90zTXX6Kuvvrrg9zVo0MDtwvCSkhJlZGRUS0+nT5922+Y9e/bo+PHjatu2rSR7n7cdUVFROn36tDZt2mSNHT16VN98843atWt3QT336tVLn3/+uVavXq1evXpJknr27Knk5GR988031pmmoKAgRUZGKi0tze3969evP+c6XS6XGjZsqI0bN1pjp0+f1rZt29zqHA6HevTooalTp2r79u3y9fXVsmXLrPkZGRny8fFR+/btL2j7gAvBmSagFvv73/+u+Ph4NW7cWL///e9Vp04d7dixQzt37tS0adN0+PBh/fnPf9ZTTz2l66+/XgsWLNCAAQN08803q1u3bpJ+udPr008/VY8ePeR0OhUcHHzW9e3bt0/p6eluYy1bttSUKVM0duxYBQUF6eabb1ZhYaG2bt2qnJwcjR8/3ta2jBkzRjfeeKOSkpI0cOBArV69WitWrHA7C9GsWTOrh0aNGikwMFBOp/PCd5ykuLg4/elPf1JJSUmFM2LnctNNN2n8+PFKSUlRixYt9Nxzz+n48eNV6qE8Hx8fjRkzRv/+97/l4+Ojhx9+WN26dbO+pjzf521Xq1atNHjwYI0cOVLz5s1TYGCgHn/8cV155ZUaPHjwBfV84403Kj8/Xx988IHVQ69evXTbbbepQYMGioqKsmr/8pe/aPLkyWrRooU6deqk+fPnKz09XYsWLTrnOsaNG6eZM2eqVatWateunZKSktz2+aZNm/Tpp58qNjZWYWFh2rRpk44cOeIWxj7//HPdcMMN1td0QI3w4PVUAMopfyG4Mb/cUdW9e3fj5+dngoKCzHXXXWdeeuklU1paavr06WPi4uKsO7SMMeaRRx4xLVq0sO4sWr58uWnZsqXx9vY2TZs2Peu6JVX6KrtQeNGiRaZTp07G19fXBAcHmxtvvNEsXbrUGPP/L/Ddvn27tbzKLjR+6aWXzJVXXmn8/PzMkCFDzLRp00xERIQ1/+effza33XabqVevnnXXX1lv5S9Sd7lc1vzKnD592lx55ZUmNTX1nPt32bJl5sz/KSwqKjJ//vOfTf369U1YWJiZMWNGpReCP/fccxX235k9lt8nZetesmSJueqqq4yvr6+56aabKlzcfLbP+2zrOZtjx46ZhIQE43K5jJ+fn4mLi7PuYjPG3oXgZTp37mwaNGhgHWdHjx41DofD3H777W51JSUlZurUqebKK680Pj4+pmPHjm4X61d2nBjzy4Xf48aNM0FBQaZevXpm/Pjx5r777rMuBP/qq69MXFycadCggXE6naZ169bmP//5j9syWrdubRYvXnzebQF+DYcxF3BRAQBUo5EjR+rrr7/W559/XiPLnzNnjt5//319/PHHNbJ81A4pKSn6y1/+oh07dlTr9XxAeRxdAH4zzzzzjPr166eAgACtWLFCCxcudHtIZnV74IEHlJOTo/z8fH5K5RJWUFCg+fPnE5hQ4zjTBOA3c8cdd2jt2rXKz8/XVVddpTFjxujBBx/0dFsAYAuhCQAAwAYeOQAAAGADoQkAAMAGQhMAAIANhCYAAAAbCE0AAAA2EJoAAABsIDQBAADYQGgCAACwgdAEAABgw/8FcAzqRiFphtAAAAAASUVORK5CYII=",
      "text/plain": [
       "<Figure size 640x480 with 1 Axes>"
      ]
     },
     "metadata": {},
     "output_type": "display_data"
    }
   ],
   "source": [
    "tokenizer = Tokenizer()\n",
    "tokenizer.fit_on_texts(data_clean['text'])\n",
    "sequences = tokenizer.texts_to_sequences(data_clean['text'])\n",
    "\n",
    "sequence_lengths = [len(seq) for seq in sequences]\n",
    "\n",
    "plt.hist(sequence_lengths, bins=20)\n",
    "plt.title('Distribution of Text Lengths')\n",
    "plt.xlabel('Text Length (number of words)')\n",
    "plt.ylabel('Frequency')\n",
    "plt.show()"
   ]
  },
  {
   "cell_type": "code",
   "execution_count": 10,
   "metadata": {},
   "outputs": [],
   "source": [
    "# Tokenizer\n",
    "max_words = 20000\n",
    "\n",
    "tokenizer = Tokenizer(num_words=max_words)\n",
    "tokenizer.fit_on_texts(data_clean['text'])\n",
    "\n",
    "sequences = tokenizer.texts_to_sequences(data_clean['text'])\n",
    "\n",
    "max_sequence_length = 25 \n",
    "data_padded = pad_sequences(sequences, maxlen=max_sequence_length)"
   ]
  },
  {
   "cell_type": "code",
   "execution_count": 11,
   "metadata": {},
   "outputs": [
    {
     "name": "stdout",
     "output_type": "stream",
     "text": [
      "[[    0     0     0 ...   259    41   107]\n",
      " [    0     0     0 ...    87  1719 17465]\n",
      " [    0     0     0 ...   291   198     8]\n",
      " ...\n",
      " [    0     0     0 ...    38    49   172]\n",
      " [    0     0     0 ...   261  9979  5495]\n",
      " [    0     0     0 ...   343    24    11]]\n",
      "(300000, 25)\n"
     ]
    }
   ],
   "source": [
    "print(data_padded)\n",
    "print(data_padded.shape)"
   ]
  },
  {
   "cell_type": "code",
   "execution_count": 83,
   "metadata": {},
   "outputs": [
    {
     "name": "stdout",
     "output_type": "stream",
     "text": [
      "(240000, 25)\n",
      "(240000,)\n",
      "(60000, 25)\n",
      "(60000,)\n"
     ]
    }
   ],
   "source": [
    "# Split training dataset and testing dataset\n",
    "labels = data_clean['sentiment']\n",
    "X_train, X_test, y_train, y_test = train_test_split(data_padded, labels, test_size=0.2, random_state=42)\n",
    "\n",
    "print(X_train.shape)\n",
    "print(y_train.shape)\n",
    "print(X_test.shape)\n",
    "print(y_test.shape)\n",
    "# y_train = to_categorical(y_train, num_classes=2)\n",
    "# y_test = to_categorical(y_test, num_classes=2)\n",
    "# print(f\"y_train shape before one-hot encoding: {y_train.shape}\")\n",
    "# print(f\"y_train shape after one-hot encoding: {y_train.shape}\")\n",
    "# print(f\"y_test shape after one-hot encoding: {y_test.shape}\")"
   ]
  },
  {
   "cell_type": "code",
   "execution_count": 78,
   "metadata": {},
   "outputs": [
    {
     "name": "stdout",
     "output_type": "stream",
     "text": [
      "[0 1]\n",
      "[0 1]\n"
     ]
    }
   ],
   "source": [
    "print(np.unique(y_train))\n",
    "print(np.unique(y_test))"
   ]
  },
  {
   "cell_type": "markdown",
   "metadata": {},
   "source": [
    "# 3. Model Implementation"
   ]
  },
  {
   "cell_type": "code",
   "execution_count": None,
   "metadata": {},
   "outputs": [],
   "source": [
    "import tensorflow as tf\n",
    "from tensorflow.keras.layers import Input, Dense, Embedding, MultiHeadAttention, LayerNormalization, Dropout, GlobalAveragePooling1D\n",
    "from tensorflow.keras.models import Model\n",
    "from tensorflow.keras.regularizers import l2\n",
    "from tensorflow.keras.callbacks import ReduceLROnPlateau\n",
    "\n",
    "# Transformer block definition with regularization\n",
    "def transformer_block(inputs, num_heads, ff_dim, reg):\n",
    "    attention_output = MultiHeadAttention(num_heads=num_heads, key_dim=inputs.shape[-1])(inputs, inputs)\n",
    "    attention_output = Dropout(0.3)(attention_output)\n",
    "    attention_output = LayerNormalization(epsilon=1e-6)(attention_output + inputs)\n",
    "    \n",
    "    # Feed Forward Network (FFN) with L2 regularization\n",
    "    ffn_output = Dense(ff_dim, activation=\"relu\", kernel_regularizer=l2(reg))(attention_output)\n",
    "    ffn_output = Dense(inputs.shape[-1], kernel_regularizer=l2(reg))(ffn_output)\n",
    "    ffn_output = Dropout(0.1)(ffn_output)\n",
    "    sequence_output = LayerNormalization(epsilon=1e-6)(ffn_output + attention_output)\n",
    "    \n",
    "    return sequence_output\n",
    "\n",
    "# Create Transformer model with regularization\n",
    "def create_transformer_model(input_shape, maxlen, embed_dim, num_heads, ff_dim, reg):\n",
    "    inputs = Input(shape=(maxlen,))\n",
    "    embedding_layer = Embedding(input_dim=max_words, output_dim=embed_dim, input_length=maxlen)(inputs)\n",
    "    \n",
    "    transformer_output = transformer_block(embedding_layer, num_heads, ff_dim, reg)\n",
    "    \n",
    "    transformer_output = GlobalAveragePooling1D()(transformer_output)\n",
    "    \n",
    "    # Classification head\n",
    "    outputs = Dense(1, activation=\"sigmoid\", kernel_regularizer=l2(reg))(transformer_output)\n",
    "    \n",
    "    model = Model(inputs=inputs, outputs=outputs)\n",
    "    \n",
    "    # Compile the model\n",
    "    model.compile(optimizer=\"adam\", loss=\"binary_crossentropy\", metrics=[\"accuracy\"])\n",
    "    \n",
    "    return model\n",
    "\n",
    "# Model parameters\n",
    "maxlen = 25  # Maximum length of input sequences\n",
    "embed_dim = 128  # Embedding dimensions for each token\n",
    "num_heads = 8  # Number of attention heads\n",
    "ff_dim = 128  # Hidden layer size in feed forward network\n",
    "reg = 1e-4  # Regularization factor\n",
    "\n",
    "# Create the Transformer model with L2 regularization\n",
    "transformer_model = create_transformer_model(X_train.shape[1], maxlen, embed_dim, num_heads, ff_dim, reg)\n",
    "\n",
    "# Learning rate scheduler: ReduceLROnPlateau\n",
    "lr_scheduler = ReduceLROnPlateau(monitor='val_loss', factor=0.5, patience=2, min_lr=1e-6)\n",
    "\n",
    "# Train the model\n",
    "history = transformer_model.fit(X_train, y_train, \n",
    "                                epochs=10, \n",
    "                                batch_size=64, \n",
    "                                validation_data=(X_test, y_test),\n",
    "                                callbacks=[lr_scheduler])\n",
    "\n",
    "# Evaluate the model\n",
    "loss, accuracy = transformer_model.evaluate(X_test, y_test)\n",
    "print(f\"Test Loss: {loss}\")\n",
    "print(f\"Test Accuracy: {accuracy}\")"
   ]
  },
  {
   "cell_type": "code",
   "execution_count": None,
   "metadata": {},
   "outputs": [],
   "source": [
    "import tensorflow as tf\n",
    "from tensorflow.keras.layers import Input, Dense, Embedding, MultiHeadAttention, LayerNormalization, Dropout, GlobalAveragePooling1D\n",
    "from tensorflow.keras.models import Model\n",
    "from tensorflow.keras.regularizers import l2\n",
    "from tensorflow.keras.callbacks import ReduceLROnPlateau\n",
    "import kerastuner as kt\n",
    "\n",
    "# Transformer block definition with regularization\n",
    "def transformer_block(inputs, num_heads, ff_dim, reg):\n",
    "    attention_output = MultiHeadAttention(num_heads=num_heads, key_dim=inputs.shape[-1])(inputs, inputs)\n",
    "    attention_output = Dropout(0.3)(attention_output)\n",
    "    attention_output = LayerNormalization(epsilon=1e-6)(attention_output + inputs)\n",
    "    \n",
    "    # Feed Forward Network (FFN) with L2 regularization\n",
    "    ffn_output = Dense(ff_dim, activation=\"relu\", kernel_regularizer=l2(reg))(attention_output)\n",
    "    ffn_output = Dense(inputs.shape[-1], kernel_regularizer=l2(reg))(ffn_output)\n",
    "    ffn_output = Dropout(0.1)(ffn_output)\n",
    "    sequence_output = LayerNormalization(epsilon=1e-6)(ffn_output + attention_output)\n",
    "    \n",
    "    return sequence_output\n",
    "\n",
    "# Define model builder for KerasTuner\n",
    "def build_transformer_model(hp):\n",
    "    inputs = Input(shape=(maxlen,))\n",
    "    \n",
    "    embed_dim = hp.Int('embed_dim', min_value=64, max_value=256, step=64)\n",
    "    num_heads = hp.Int('num_heads', min_value=4, max_value=16, step=4)\n",
    "    ff_dim = hp.Int('ff_dim', min_value=128, max_value=512, step=128)\n",
    "    reg = hp.Float('reg', min_value=1e-5, max_value=1e-3, sampling='log')\n",
    "    \n",
    "    embedding_layer = Embedding(input_dim=max_words, output_dim=embed_dim, input_length=maxlen)(inputs)\n",
    "    transformer_output = transformer_block(embedding_layer, num_heads, ff_dim, reg)\n",
    "    \n",
    "    transformer_output = GlobalAveragePooling1D()(transformer_output)\n",
    "    \n",
    "    # Classification head\n",
    "    outputs = Dense(1, activation=\"sigmoid\", kernel_regularizer=l2(reg))(transformer_output)\n",
    "    \n",
    "    model = Model(inputs=inputs, outputs=outputs)\n",
    "    \n",
    "    # Compile the model\n",
    "    model.compile(optimizer=\"adam\", loss=\"binary_crossentropy\", metrics=[\"accuracy\"])\n",
    "    \n",
    "    return model\n",
    "\n",
    "# Hyperparameters search setup using KerasTuner RandomSearch\n",
    "tuner = kt.RandomSearch(\n",
    "    build_transformer_model,\n",
    "    objective='val_accuracy',\n",
    "    max_trials=10,  # Perform 10 random trials\n",
    "    executions_per_trial=1,  # Execute each trial once\n",
    "    directory='transformer_tuning',  # Save results to this directory\n",
    "    project_name='sentiment_analysis_transformer'\n",
    ")\n",
    "\n",
    "# Define callbacks\n",
    "lr_scheduler = ReduceLROnPlateau(monitor='val_loss', factor=0.5, patience=2, min_lr=1e-6)\n",
    "\n",
    "# Perform the search\n",
    "tuner.search(X_train, y_train, \n",
    "             epochs=10, \n",
    "             batch_size=64, \n",
    "             validation_data=(X_test, y_test),\n",
    "             callbacks=[lr_scheduler])\n",
    "\n",
    "# Get the best hyperparameters\n",
    "best_hps = tuner.get_best_hyperparameters(num_trials=1)[0]\n",
    "\n",
    "# Print the best hyperparameters\n",
    "print(f\"Best hyperparameters: embed_dim: {best_hps.get('embed_dim')}, num_heads: {best_hps.get('num_heads')}, ff_dim: {best_hps.get('ff_dim')}, reg: {best_hps.get('reg')}\")\n",
    "\n",
    "# Build and train the best model\n",
    "best_model = tuner.hypermodel.build(best_hps)\n",
    "history = best_model.fit(X_train, y_train, epochs=10, batch_size=64, validation_data=(X_test, y_test), callbacks=[lr_scheduler])\n",
    "\n",
    "# Evaluate the best model\n",
    "loss, accuracy = best_model.evaluate(X_test, y_test)\n",
    "print(f\"Best Model Test Loss: {loss}\")\n",
    "print(f\"Best Model Test Accuracy: {accuracy}\")"
   ]
  },
  {
   "cell_type": "markdown",
   "metadata": {},
   "source": [
    "## 3.1 Model 1 Implementation "
   ]
  },
  {
   "cell_type": "markdown",
   "metadata": {},
   "source": [
    "## 3.2 Model 2 Implementation"
   ]
  },
  {
   "cell_type": "markdown",
   "metadata": {},
   "source": [
    "## 3.3 Model 3 Implementation"
   ]
  },
  {
   "cell_type": "markdown",
   "metadata": {},
   "source": [
    "# 4. Hyperparameter Tuning"
   ]
  },
  {
   "cell_type": "markdown",
   "metadata": {},
   "source": [
    "## 4.1 Model 1 Hyperparameter Tuning "
   ]
  },
  {
   "cell_type": "markdown",
   "metadata": {},
   "source": [
    "## 4.2 Model 2 Hyperparameter Tuning "
   ]
  },
  {
   "cell_type": "markdown",
   "metadata": {},
   "source": [
    "## 4.3 Model 3 Hyperparameter Tuning "
   ]
  },
  {
   "cell_type": "markdown",
   "metadata": {},
   "source": [
    "# 5. Evaluation and Comparison"
   ]
  },
  {
   "cell_type": "markdown",
   "metadata": {},
   "source": [
    "# 6. Final Model"
   ]
  }
 ],
 "metadata": {
  "kernelspec": {
   "display_name": "base",
   "language": "python",
   "name": "python3"
  },
  "language_info": {
   "codemirror_mode": {
    "name": "ipython",
    "version": 3
   },
   "file_extension": ".py",
   "mimetype": "text/x-python",
   "name": "python",
   "nbconvert_exporter": "python",
   "pygments_lexer": "ipython3",
   "version": "3.12.2"
  }
 },
 "nbformat": 4,
 "nbformat_minor": 2
}
